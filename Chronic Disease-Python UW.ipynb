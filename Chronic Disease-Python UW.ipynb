{
 "cells": [
  {
   "cell_type": "code",
   "execution_count": 1,
   "metadata": {
    "collapsed": true
   },
   "outputs": [],
   "source": [
    "import pandas as pd\n",
    "import numpy as np\n",
    "import matplotlib.pyplot as plt\n",
    "\n",
    "import seaborn as sns\n",
    "%matplotlib inline"
   ]
  },
  {
   "cell_type": "code",
   "execution_count": 2,
   "metadata": {},
   "outputs": [
    {
     "name": "stderr",
     "output_type": "stream",
     "text": [
      "/Users/sulbha/anaconda/lib/python3.6/site-packages/IPython/core/interactiveshell.py:2717: DtypeWarning: Columns (7,10,18,19,20,21,23,30,31,32,33) have mixed types. Specify dtype option on import or set low_memory=False.\n",
      "  interactivity=interactivity, compiler=compiler, result=result)\n"
     ]
    }
   ],
   "source": [
    "df = pd.read_csv(\"U.S._Chronic_Disease_Indicators.csv\")"
   ]
  },
  {
   "cell_type": "code",
   "execution_count": 3,
   "metadata": {},
   "outputs": [
    {
     "data": {
      "text/html": [
       "<div>\n",
       "<style>\n",
       "    .dataframe thead tr:only-child th {\n",
       "        text-align: right;\n",
       "    }\n",
       "\n",
       "    .dataframe thead th {\n",
       "        text-align: left;\n",
       "    }\n",
       "\n",
       "    .dataframe tbody tr th {\n",
       "        vertical-align: top;\n",
       "    }\n",
       "</style>\n",
       "<table border=\"1\" class=\"dataframe\">\n",
       "  <thead>\n",
       "    <tr style=\"text-align: right;\">\n",
       "      <th></th>\n",
       "      <th>YearStart</th>\n",
       "      <th>YearEnd</th>\n",
       "      <th>LocationAbbr</th>\n",
       "      <th>LocationDesc</th>\n",
       "      <th>DataSource</th>\n",
       "      <th>Topic</th>\n",
       "      <th>Question</th>\n",
       "      <th>Response</th>\n",
       "      <th>DataValueUnit</th>\n",
       "      <th>DataValueType</th>\n",
       "      <th>...</th>\n",
       "      <th>LocationID</th>\n",
       "      <th>TopicID</th>\n",
       "      <th>QuestionID</th>\n",
       "      <th>DataValueTypeID</th>\n",
       "      <th>StratificationCategoryID1</th>\n",
       "      <th>StratificationID1</th>\n",
       "      <th>StratificationCategoryID2</th>\n",
       "      <th>StratificationID2</th>\n",
       "      <th>StratificationCategoryID3</th>\n",
       "      <th>StratificationID3</th>\n",
       "    </tr>\n",
       "  </thead>\n",
       "  <tbody>\n",
       "    <tr>\n",
       "      <th>0</th>\n",
       "      <td>2015</td>\n",
       "      <td>2015</td>\n",
       "      <td>AK</td>\n",
       "      <td>Alaska</td>\n",
       "      <td>YRBSS</td>\n",
       "      <td>Alcohol</td>\n",
       "      <td>Alcohol use among youth</td>\n",
       "      <td>NaN</td>\n",
       "      <td>%</td>\n",
       "      <td>Crude Prevalence</td>\n",
       "      <td>...</td>\n",
       "      <td>2</td>\n",
       "      <td>ALC</td>\n",
       "      <td>ALC1_1</td>\n",
       "      <td>CrdPrev</td>\n",
       "      <td>OVERALL</td>\n",
       "      <td>OVR</td>\n",
       "      <td>NaN</td>\n",
       "      <td>NaN</td>\n",
       "      <td>NaN</td>\n",
       "      <td>NaN</td>\n",
       "    </tr>\n",
       "    <tr>\n",
       "      <th>1</th>\n",
       "      <td>2015</td>\n",
       "      <td>2015</td>\n",
       "      <td>AL</td>\n",
       "      <td>Alabama</td>\n",
       "      <td>YRBSS</td>\n",
       "      <td>Alcohol</td>\n",
       "      <td>Alcohol use among youth</td>\n",
       "      <td>NaN</td>\n",
       "      <td>%</td>\n",
       "      <td>Crude Prevalence</td>\n",
       "      <td>...</td>\n",
       "      <td>1</td>\n",
       "      <td>ALC</td>\n",
       "      <td>ALC1_1</td>\n",
       "      <td>CrdPrev</td>\n",
       "      <td>OVERALL</td>\n",
       "      <td>OVR</td>\n",
       "      <td>NaN</td>\n",
       "      <td>NaN</td>\n",
       "      <td>NaN</td>\n",
       "      <td>NaN</td>\n",
       "    </tr>\n",
       "    <tr>\n",
       "      <th>2</th>\n",
       "      <td>2015</td>\n",
       "      <td>2015</td>\n",
       "      <td>AR</td>\n",
       "      <td>Arkansas</td>\n",
       "      <td>YRBSS</td>\n",
       "      <td>Alcohol</td>\n",
       "      <td>Alcohol use among youth</td>\n",
       "      <td>NaN</td>\n",
       "      <td>%</td>\n",
       "      <td>Crude Prevalence</td>\n",
       "      <td>...</td>\n",
       "      <td>5</td>\n",
       "      <td>ALC</td>\n",
       "      <td>ALC1_1</td>\n",
       "      <td>CrdPrev</td>\n",
       "      <td>OVERALL</td>\n",
       "      <td>OVR</td>\n",
       "      <td>NaN</td>\n",
       "      <td>NaN</td>\n",
       "      <td>NaN</td>\n",
       "      <td>NaN</td>\n",
       "    </tr>\n",
       "    <tr>\n",
       "      <th>3</th>\n",
       "      <td>2015</td>\n",
       "      <td>2015</td>\n",
       "      <td>AZ</td>\n",
       "      <td>Arizona</td>\n",
       "      <td>YRBSS</td>\n",
       "      <td>Alcohol</td>\n",
       "      <td>Alcohol use among youth</td>\n",
       "      <td>NaN</td>\n",
       "      <td>%</td>\n",
       "      <td>Crude Prevalence</td>\n",
       "      <td>...</td>\n",
       "      <td>4</td>\n",
       "      <td>ALC</td>\n",
       "      <td>ALC1_1</td>\n",
       "      <td>CrdPrev</td>\n",
       "      <td>OVERALL</td>\n",
       "      <td>OVR</td>\n",
       "      <td>NaN</td>\n",
       "      <td>NaN</td>\n",
       "      <td>NaN</td>\n",
       "      <td>NaN</td>\n",
       "    </tr>\n",
       "    <tr>\n",
       "      <th>4</th>\n",
       "      <td>2015</td>\n",
       "      <td>2015</td>\n",
       "      <td>CA</td>\n",
       "      <td>California</td>\n",
       "      <td>YRBSS</td>\n",
       "      <td>Alcohol</td>\n",
       "      <td>Alcohol use among youth</td>\n",
       "      <td>NaN</td>\n",
       "      <td>%</td>\n",
       "      <td>Crude Prevalence</td>\n",
       "      <td>...</td>\n",
       "      <td>6</td>\n",
       "      <td>ALC</td>\n",
       "      <td>ALC1_1</td>\n",
       "      <td>CrdPrev</td>\n",
       "      <td>OVERALL</td>\n",
       "      <td>OVR</td>\n",
       "      <td>NaN</td>\n",
       "      <td>NaN</td>\n",
       "      <td>NaN</td>\n",
       "      <td>NaN</td>\n",
       "    </tr>\n",
       "  </tbody>\n",
       "</table>\n",
       "<p>5 rows × 34 columns</p>\n",
       "</div>"
      ],
      "text/plain": [
       "   YearStart  YearEnd LocationAbbr LocationDesc DataSource    Topic  \\\n",
       "0       2015     2015           AK       Alaska      YRBSS  Alcohol   \n",
       "1       2015     2015           AL      Alabama      YRBSS  Alcohol   \n",
       "2       2015     2015           AR     Arkansas      YRBSS  Alcohol   \n",
       "3       2015     2015           AZ      Arizona      YRBSS  Alcohol   \n",
       "4       2015     2015           CA   California      YRBSS  Alcohol   \n",
       "\n",
       "                  Question Response DataValueUnit     DataValueType  \\\n",
       "0  Alcohol use among youth      NaN             %  Crude Prevalence   \n",
       "1  Alcohol use among youth      NaN             %  Crude Prevalence   \n",
       "2  Alcohol use among youth      NaN             %  Crude Prevalence   \n",
       "3  Alcohol use among youth      NaN             %  Crude Prevalence   \n",
       "4  Alcohol use among youth      NaN             %  Crude Prevalence   \n",
       "\n",
       "         ...        LocationID  TopicID QuestionID DataValueTypeID  \\\n",
       "0        ...                 2      ALC     ALC1_1         CrdPrev   \n",
       "1        ...                 1      ALC     ALC1_1         CrdPrev   \n",
       "2        ...                 5      ALC     ALC1_1         CrdPrev   \n",
       "3        ...                 4      ALC     ALC1_1         CrdPrev   \n",
       "4        ...                 6      ALC     ALC1_1         CrdPrev   \n",
       "\n",
       "   StratificationCategoryID1  StratificationID1 StratificationCategoryID2  \\\n",
       "0                    OVERALL                OVR                       NaN   \n",
       "1                    OVERALL                OVR                       NaN   \n",
       "2                    OVERALL                OVR                       NaN   \n",
       "3                    OVERALL                OVR                       NaN   \n",
       "4                    OVERALL                OVR                       NaN   \n",
       "\n",
       "  StratificationID2 StratificationCategoryID3 StratificationID3  \n",
       "0               NaN                       NaN               NaN  \n",
       "1               NaN                       NaN               NaN  \n",
       "2               NaN                       NaN               NaN  \n",
       "3               NaN                       NaN               NaN  \n",
       "4               NaN                       NaN               NaN  \n",
       "\n",
       "[5 rows x 34 columns]"
      ]
     },
     "execution_count": 3,
     "metadata": {},
     "output_type": "execute_result"
    }
   ],
   "source": [
    "df.head()"
   ]
  },
  {
   "cell_type": "code",
   "execution_count": 4,
   "metadata": {},
   "outputs": [
    {
     "name": "stdout",
     "output_type": "stream",
     "text": [
      "<class 'pandas.core.frame.DataFrame'>\n",
      "RangeIndex: 403984 entries, 0 to 403983\n",
      "Data columns (total 34 columns):\n",
      "YearStart                    403984 non-null int64\n",
      "YearEnd                      403984 non-null int64\n",
      "LocationAbbr                 403984 non-null object\n",
      "LocationDesc                 403984 non-null object\n",
      "DataSource                   403984 non-null object\n",
      "Topic                        403984 non-null object\n",
      "Question                     403984 non-null object\n",
      "Response                     79323 non-null object\n",
      "DataValueUnit                374119 non-null object\n",
      "DataValueType                403984 non-null object\n",
      "DataValue                    297817 non-null object\n",
      "DataValueAlt                 273666 non-null float64\n",
      "DataValueFootnoteSymbol      188019 non-null object\n",
      "DatavalueFootnote            187853 non-null object\n",
      "LowConfidenceLimit           246819 non-null float64\n",
      "HighConfidenceLimit          246819 non-null float64\n",
      "StratificationCategory1      403984 non-null object\n",
      "Stratification1              403984 non-null object\n",
      "StratificationCategory2      79323 non-null object\n",
      "Stratification2              79323 non-null object\n",
      "StratificationCategory3      79323 non-null object\n",
      "Stratification3              79323 non-null object\n",
      "GeoLocation                  401416 non-null object\n",
      "ResponseID                   79323 non-null object\n",
      "LocationID                   403984 non-null int64\n",
      "TopicID                      403984 non-null object\n",
      "QuestionID                   403984 non-null object\n",
      "DataValueTypeID              403984 non-null object\n",
      "StratificationCategoryID1    403984 non-null object\n",
      "StratificationID1            403984 non-null object\n",
      "StratificationCategoryID2    79324 non-null object\n",
      "StratificationID2            79324 non-null object\n",
      "StratificationCategoryID3    79323 non-null object\n",
      "StratificationID3            79323 non-null object\n",
      "dtypes: float64(3), int64(3), object(28)\n",
      "memory usage: 104.8+ MB\n"
     ]
    }
   ],
   "source": [
    "df.info()"
   ]
  },
  {
   "cell_type": "markdown",
   "metadata": {},
   "source": [
    "## EDA"
   ]
  },
  {
   "cell_type": "code",
   "execution_count": 5,
   "metadata": {},
   "outputs": [
    {
     "data": {
      "text/plain": [
       "     79323\n",
       "Name: Response, dtype: int64"
      ]
     },
     "execution_count": 5,
     "metadata": {},
     "output_type": "execute_result"
    }
   ],
   "source": [
    "df['Response'].value_counts()\n",
    "# as all values are null or blanks do drop this and other null or blanks columns."
   ]
  },
  {
   "cell_type": "code",
   "execution_count": 6,
   "metadata": {},
   "outputs": [
    {
     "data": {
      "text/html": [
       "<div>\n",
       "<style>\n",
       "    .dataframe thead tr:only-child th {\n",
       "        text-align: right;\n",
       "    }\n",
       "\n",
       "    .dataframe thead th {\n",
       "        text-align: left;\n",
       "    }\n",
       "\n",
       "    .dataframe tbody tr th {\n",
       "        vertical-align: top;\n",
       "    }\n",
       "</style>\n",
       "<table border=\"1\" class=\"dataframe\">\n",
       "  <thead>\n",
       "    <tr style=\"text-align: right;\">\n",
       "      <th></th>\n",
       "      <th>YearStart</th>\n",
       "      <th>YearEnd</th>\n",
       "      <th>LocationAbbr</th>\n",
       "      <th>LocationDesc</th>\n",
       "      <th>DataSource</th>\n",
       "      <th>Topic</th>\n",
       "      <th>Question</th>\n",
       "      <th>DataValueUnit</th>\n",
       "      <th>DataValueType</th>\n",
       "      <th>DataValue</th>\n",
       "      <th>...</th>\n",
       "      <th>HighConfidenceLimit</th>\n",
       "      <th>StratificationCategory1</th>\n",
       "      <th>Stratification1</th>\n",
       "      <th>GeoLocation</th>\n",
       "      <th>LocationID</th>\n",
       "      <th>TopicID</th>\n",
       "      <th>QuestionID</th>\n",
       "      <th>DataValueTypeID</th>\n",
       "      <th>StratificationCategoryID1</th>\n",
       "      <th>StratificationID1</th>\n",
       "    </tr>\n",
       "  </thead>\n",
       "  <tbody>\n",
       "    <tr>\n",
       "      <th>0</th>\n",
       "      <td>2015</td>\n",
       "      <td>2015</td>\n",
       "      <td>AK</td>\n",
       "      <td>Alaska</td>\n",
       "      <td>YRBSS</td>\n",
       "      <td>Alcohol</td>\n",
       "      <td>Alcohol use among youth</td>\n",
       "      <td>%</td>\n",
       "      <td>Crude Prevalence</td>\n",
       "      <td>22</td>\n",
       "      <td>...</td>\n",
       "      <td>24.5</td>\n",
       "      <td>Overall</td>\n",
       "      <td>Overall</td>\n",
       "      <td>(64.84507995700051, -147.72205903599973)</td>\n",
       "      <td>2</td>\n",
       "      <td>ALC</td>\n",
       "      <td>ALC1_1</td>\n",
       "      <td>CrdPrev</td>\n",
       "      <td>OVERALL</td>\n",
       "      <td>OVR</td>\n",
       "    </tr>\n",
       "    <tr>\n",
       "      <th>1</th>\n",
       "      <td>2015</td>\n",
       "      <td>2015</td>\n",
       "      <td>AL</td>\n",
       "      <td>Alabama</td>\n",
       "      <td>YRBSS</td>\n",
       "      <td>Alcohol</td>\n",
       "      <td>Alcohol use among youth</td>\n",
       "      <td>%</td>\n",
       "      <td>Crude Prevalence</td>\n",
       "      <td>30.7</td>\n",
       "      <td>...</td>\n",
       "      <td>34.3</td>\n",
       "      <td>Overall</td>\n",
       "      <td>Overall</td>\n",
       "      <td>(32.84057112200048, -86.63186076199969)</td>\n",
       "      <td>1</td>\n",
       "      <td>ALC</td>\n",
       "      <td>ALC1_1</td>\n",
       "      <td>CrdPrev</td>\n",
       "      <td>OVERALL</td>\n",
       "      <td>OVR</td>\n",
       "    </tr>\n",
       "    <tr>\n",
       "      <th>2</th>\n",
       "      <td>2015</td>\n",
       "      <td>2015</td>\n",
       "      <td>AR</td>\n",
       "      <td>Arkansas</td>\n",
       "      <td>YRBSS</td>\n",
       "      <td>Alcohol</td>\n",
       "      <td>Alcohol use among youth</td>\n",
       "      <td>%</td>\n",
       "      <td>Crude Prevalence</td>\n",
       "      <td>27.6</td>\n",
       "      <td>...</td>\n",
       "      <td>30.8</td>\n",
       "      <td>Overall</td>\n",
       "      <td>Overall</td>\n",
       "      <td>(34.74865012400045, -92.27449074299966)</td>\n",
       "      <td>5</td>\n",
       "      <td>ALC</td>\n",
       "      <td>ALC1_1</td>\n",
       "      <td>CrdPrev</td>\n",
       "      <td>OVERALL</td>\n",
       "      <td>OVR</td>\n",
       "    </tr>\n",
       "    <tr>\n",
       "      <th>3</th>\n",
       "      <td>2015</td>\n",
       "      <td>2015</td>\n",
       "      <td>AZ</td>\n",
       "      <td>Arizona</td>\n",
       "      <td>YRBSS</td>\n",
       "      <td>Alcohol</td>\n",
       "      <td>Alcohol use among youth</td>\n",
       "      <td>%</td>\n",
       "      <td>Crude Prevalence</td>\n",
       "      <td>34.8</td>\n",
       "      <td>...</td>\n",
       "      <td>40.2</td>\n",
       "      <td>Overall</td>\n",
       "      <td>Overall</td>\n",
       "      <td>(34.865970280000454, -111.76381127699972)</td>\n",
       "      <td>4</td>\n",
       "      <td>ALC</td>\n",
       "      <td>ALC1_1</td>\n",
       "      <td>CrdPrev</td>\n",
       "      <td>OVERALL</td>\n",
       "      <td>OVR</td>\n",
       "    </tr>\n",
       "    <tr>\n",
       "      <th>4</th>\n",
       "      <td>2015</td>\n",
       "      <td>2015</td>\n",
       "      <td>CA</td>\n",
       "      <td>California</td>\n",
       "      <td>YRBSS</td>\n",
       "      <td>Alcohol</td>\n",
       "      <td>Alcohol use among youth</td>\n",
       "      <td>%</td>\n",
       "      <td>Crude Prevalence</td>\n",
       "      <td>28.9</td>\n",
       "      <td>...</td>\n",
       "      <td>34.7</td>\n",
       "      <td>Overall</td>\n",
       "      <td>Overall</td>\n",
       "      <td>(37.63864012300047, -120.99999953799971)</td>\n",
       "      <td>6</td>\n",
       "      <td>ALC</td>\n",
       "      <td>ALC1_1</td>\n",
       "      <td>CrdPrev</td>\n",
       "      <td>OVERALL</td>\n",
       "      <td>OVR</td>\n",
       "    </tr>\n",
       "  </tbody>\n",
       "</table>\n",
       "<p>5 rows × 24 columns</p>\n",
       "</div>"
      ],
      "text/plain": [
       "   YearStart  YearEnd LocationAbbr LocationDesc DataSource    Topic  \\\n",
       "0       2015     2015           AK       Alaska      YRBSS  Alcohol   \n",
       "1       2015     2015           AL      Alabama      YRBSS  Alcohol   \n",
       "2       2015     2015           AR     Arkansas      YRBSS  Alcohol   \n",
       "3       2015     2015           AZ      Arizona      YRBSS  Alcohol   \n",
       "4       2015     2015           CA   California      YRBSS  Alcohol   \n",
       "\n",
       "                  Question DataValueUnit     DataValueType DataValue  \\\n",
       "0  Alcohol use among youth             %  Crude Prevalence        22   \n",
       "1  Alcohol use among youth             %  Crude Prevalence      30.7   \n",
       "2  Alcohol use among youth             %  Crude Prevalence      27.6   \n",
       "3  Alcohol use among youth             %  Crude Prevalence      34.8   \n",
       "4  Alcohol use among youth             %  Crude Prevalence      28.9   \n",
       "\n",
       "         ...         HighConfidenceLimit StratificationCategory1  \\\n",
       "0        ...                        24.5                 Overall   \n",
       "1        ...                        34.3                 Overall   \n",
       "2        ...                        30.8                 Overall   \n",
       "3        ...                        40.2                 Overall   \n",
       "4        ...                        34.7                 Overall   \n",
       "\n",
       "  Stratification1                                GeoLocation  LocationID  \\\n",
       "0         Overall   (64.84507995700051, -147.72205903599973)           2   \n",
       "1         Overall    (32.84057112200048, -86.63186076199969)           1   \n",
       "2         Overall    (34.74865012400045, -92.27449074299966)           5   \n",
       "3         Overall  (34.865970280000454, -111.76381127699972)           4   \n",
       "4         Overall   (37.63864012300047, -120.99999953799971)           6   \n",
       "\n",
       "  TopicID QuestionID DataValueTypeID  StratificationCategoryID1  \\\n",
       "0     ALC     ALC1_1         CrdPrev                    OVERALL   \n",
       "1     ALC     ALC1_1         CrdPrev                    OVERALL   \n",
       "2     ALC     ALC1_1         CrdPrev                    OVERALL   \n",
       "3     ALC     ALC1_1         CrdPrev                    OVERALL   \n",
       "4     ALC     ALC1_1         CrdPrev                    OVERALL   \n",
       "\n",
       "  StratificationID1  \n",
       "0               OVR  \n",
       "1               OVR  \n",
       "2               OVR  \n",
       "3               OVR  \n",
       "4               OVR  \n",
       "\n",
       "[5 rows x 24 columns]"
      ]
     },
     "execution_count": 6,
     "metadata": {},
     "output_type": "execute_result"
    }
   ],
   "source": [
    "lst_null_cates = ['StratificationCategoryID2','StratificationID2','StratificationCategoryID3','StratificationID3','StratificationCategory3','Stratification3','StratificationCategory2', 'Stratification2','ResponseID','Response']\n",
    "df.drop(lst_null_cates, axis = 1, inplace = True)\n",
    "df.head()"
   ]
  },
  {
   "cell_type": "code",
   "execution_count": 7,
   "metadata": {},
   "outputs": [
    {
     "data": {
      "text/plain": [
       "Text(0.5,1,'Start Year Count')"
      ]
     },
     "execution_count": 7,
     "metadata": {},
     "output_type": "execute_result"
    },
    {
     "data": {
      "image/png": "[encoded data removed]",
      "text/plain": [
       "<matplotlib.figure.Figure at 0x115fe4ef0>"
      ]
     },
     "metadata": {},
     "output_type": "display_data"
    }
   ],
   "source": [
    "# pandas histogram\n",
    "\n",
    "df['YearStart'].hist(bins = 50)\n",
    "plt.tight_layout()\n",
    "plt.xlabel('Year Start')\n",
    "plt.ylabel('Count')\n",
    "plt.title('Start Year Count')"
   ]
  },
  {
   "cell_type": "code",
   "execution_count": 33,
   "metadata": {},
   "outputs": [
    {
     "data": {
      "text/plain": [
       "<matplotlib.axes._subplots.AxesSubplot at 0x1185acf60>"
      ]
     },
     "execution_count": 33,
     "metadata": {},
     "output_type": "execute_result"
    },
    {
     "data": {
      "image/png": "[encoded data removed]",
      "text/plain": [
       "<matplotlib.figure.Figure at 0x118b65b38>"
      ]
     },
     "metadata": {},
     "output_type": "display_data"
    }
   ],
   "source": [
    "# sesborn countplot\n",
    "sns.set(rc={'figure.figsize':(15.7,8.27)})\n",
    "sns.countplot(x='YearEnd', data=df , hue = 'StratificationCategoryID1')"
   ]
  },
  {
   "cell_type": "code",
   "execution_count": 9,
   "metadata": {
    "collapsed": true
   },
   "outputs": [],
   "source": [
    "# Data is collected over Race, gender and overall. Out of which maximum results were obtained for 'Race'"
   ]
  },
  {
   "cell_type": "code",
   "execution_count": 195,
   "metadata": {},
   "outputs": [
    {
     "data": {
      "text/plain": [
       "(0, 24)"
      ]
     },
     "execution_count": 195,
     "metadata": {},
     "output_type": "execute_result"
    }
   ],
   "source": [
    "df[df['YearStart'].isnull()].shape"
   ]
  },
  {
   "cell_type": "code",
   "execution_count": 11,
   "metadata": {
    "scrolled": true
   },
   "outputs": [],
   "source": [
    "# plt.figure(figsize =(20,6))\n",
    "# df['Topic'].hist(bins =50)\n",
    "# plt.xticks(rotation = 20)\n",
    "# plt.tight_layout()"
   ]
  },
  {
   "cell_type": "code",
   "execution_count": 12,
   "metadata": {},
   "outputs": [
    {
     "data": {
      "text/plain": [
       "(array([ 0,  1,  2,  3,  4,  5,  6,  7,  8,  9, 10, 11, 12, 13, 14, 15, 16]),\n",
       " <a list of 17 Text xticklabel objects>)"
      ]
     },
     "execution_count": 12,
     "metadata": {},
     "output_type": "execute_result"
    },
    {
     "data": {
      "image/png": "[encoded data removed]",
      "text/plain": [
       "<matplotlib.figure.Figure at 0x1168c51d0>"
      ]
     },
     "metadata": {},
     "output_type": "display_data"
    }
   ],
   "source": [
    "sns.set(rc={'figure.figsize':(15.7,8.27)})\n",
    "sns.countplot(x='Topic', data = df)\n",
    "plt.xticks(rotation = 20)"
   ]
  },
  {
   "cell_type": "code",
   "execution_count": 13,
   "metadata": {},
   "outputs": [
    {
     "data": {
      "text/plain": [
       "Diabetes                                           67342\n",
       "Cardiovascular Disease                             62678\n",
       "Chronic Obstructive Pulmonary Disease              52536\n",
       "Asthma                                             31958\n",
       "Arthritis                                          31652\n",
       "Overarching Conditions                             30092\n",
       "Nutrition, Physical Activity, and Weight Status    29512\n",
       "Alcohol                                            27697\n",
       "Tobacco                                            24568\n",
       "Cancer                                             11605\n",
       "Chronic Kidney Disease                             11525\n",
       "Oral Health                                         7593\n",
       "Mental Health                                       5595\n",
       "Older Adults                                        4003\n",
       "Immunization                                        3838\n",
       "Reproductive Health                                 1735\n",
       "Disability                                            55\n",
       "Name: Topic, dtype: int64"
      ]
     },
     "execution_count": 13,
     "metadata": {},
     "output_type": "execute_result"
    }
   ],
   "source": [
    "df['Topic'].value_counts()"
   ]
  },
  {
   "cell_type": "code",
   "execution_count": 14,
   "metadata": {
    "collapsed": true
   },
   "outputs": [],
   "source": [
    "## Diabetes and Cardiovascular Disease are the highest reasons for mortality"
   ]
  },
  {
   "cell_type": "code",
   "execution_count": 15,
   "metadata": {},
   "outputs": [
    {
     "data": {
      "text/html": [
       "<div>\n",
       "<style>\n",
       "    .dataframe thead tr:only-child th {\n",
       "        text-align: right;\n",
       "    }\n",
       "\n",
       "    .dataframe thead th {\n",
       "        text-align: left;\n",
       "    }\n",
       "\n",
       "    .dataframe tbody tr th {\n",
       "        vertical-align: top;\n",
       "    }\n",
       "</style>\n",
       "<table border=\"1\" class=\"dataframe\">\n",
       "  <thead>\n",
       "    <tr style=\"text-align: right;\">\n",
       "      <th></th>\n",
       "      <th>YearStart</th>\n",
       "      <th>YearEnd</th>\n",
       "      <th>LocationAbbr</th>\n",
       "      <th>LocationDesc</th>\n",
       "      <th>DataSource</th>\n",
       "      <th>Topic</th>\n",
       "      <th>Question</th>\n",
       "      <th>DataValueUnit</th>\n",
       "      <th>DataValueType</th>\n",
       "      <th>DataValue</th>\n",
       "      <th>...</th>\n",
       "      <th>HighConfidenceLimit</th>\n",
       "      <th>StratificationCategory1</th>\n",
       "      <th>Stratification1</th>\n",
       "      <th>GeoLocation</th>\n",
       "      <th>LocationID</th>\n",
       "      <th>TopicID</th>\n",
       "      <th>QuestionID</th>\n",
       "      <th>DataValueTypeID</th>\n",
       "      <th>StratificationCategoryID1</th>\n",
       "      <th>StratificationID1</th>\n",
       "    </tr>\n",
       "  </thead>\n",
       "  <tbody>\n",
       "    <tr>\n",
       "      <th>8414</th>\n",
       "      <td>2015</td>\n",
       "      <td>2015</td>\n",
       "      <td>GA</td>\n",
       "      <td>Georgia</td>\n",
       "      <td>BRFSS</td>\n",
       "      <td>Diabetes</td>\n",
       "      <td>Diabetes prevalence among women aged 18-44 years</td>\n",
       "      <td>%</td>\n",
       "      <td>Crude Prevalence</td>\n",
       "      <td>4.2</td>\n",
       "      <td>...</td>\n",
       "      <td>6.4</td>\n",
       "      <td>Overall</td>\n",
       "      <td>Overall</td>\n",
       "      <td>(32.83968109300048, -83.62758034599966)</td>\n",
       "      <td>13</td>\n",
       "      <td>DIA</td>\n",
       "      <td>DIA2_2</td>\n",
       "      <td>CrdPrev</td>\n",
       "      <td>OVERALL</td>\n",
       "      <td>OVR</td>\n",
       "    </tr>\n",
       "    <tr>\n",
       "      <th>16621</th>\n",
       "      <td>2015</td>\n",
       "      <td>2015</td>\n",
       "      <td>MO</td>\n",
       "      <td>Missouri</td>\n",
       "      <td>BRFSS</td>\n",
       "      <td>Diabetes</td>\n",
       "      <td>Diabetes prevalence among women aged 18-44 years</td>\n",
       "      <td>%</td>\n",
       "      <td>Crude Prevalence</td>\n",
       "      <td>7.2</td>\n",
       "      <td>...</td>\n",
       "      <td>9.5</td>\n",
       "      <td>Overall</td>\n",
       "      <td>Overall</td>\n",
       "      <td>(38.635790776000476, -92.56630005299968)</td>\n",
       "      <td>29</td>\n",
       "      <td>DIA</td>\n",
       "      <td>DIA2_2</td>\n",
       "      <td>CrdPrev</td>\n",
       "      <td>OVERALL</td>\n",
       "      <td>OVR</td>\n",
       "    </tr>\n",
       "    <tr>\n",
       "      <th>17009</th>\n",
       "      <td>2015</td>\n",
       "      <td>2015</td>\n",
       "      <td>NY</td>\n",
       "      <td>New York</td>\n",
       "      <td>BRFSS</td>\n",
       "      <td>Diabetes</td>\n",
       "      <td>Diabetes prevalence among women aged 18-44 years</td>\n",
       "      <td>%</td>\n",
       "      <td>Crude Prevalence</td>\n",
       "      <td>4.7</td>\n",
       "      <td>...</td>\n",
       "      <td>6.0</td>\n",
       "      <td>Overall</td>\n",
       "      <td>Overall</td>\n",
       "      <td>(42.82700103200045, -75.54397042699964)</td>\n",
       "      <td>36</td>\n",
       "      <td>DIA</td>\n",
       "      <td>DIA2_2</td>\n",
       "      <td>CrdPrev</td>\n",
       "      <td>OVERALL</td>\n",
       "      <td>OVR</td>\n",
       "    </tr>\n",
       "    <tr>\n",
       "      <th>17240</th>\n",
       "      <td>2015</td>\n",
       "      <td>2015</td>\n",
       "      <td>TX</td>\n",
       "      <td>Texas</td>\n",
       "      <td>BRFSS</td>\n",
       "      <td>Diabetes</td>\n",
       "      <td>Diabetes prevalence among women aged 18-44 years</td>\n",
       "      <td>%</td>\n",
       "      <td>Crude Prevalence</td>\n",
       "      <td>5.5</td>\n",
       "      <td>...</td>\n",
       "      <td>7.1</td>\n",
       "      <td>Overall</td>\n",
       "      <td>Overall</td>\n",
       "      <td>(31.827240407000488, -99.42677020599967)</td>\n",
       "      <td>48</td>\n",
       "      <td>DIA</td>\n",
       "      <td>DIA2_2</td>\n",
       "      <td>CrdPrev</td>\n",
       "      <td>OVERALL</td>\n",
       "      <td>OVR</td>\n",
       "    </tr>\n",
       "    <tr>\n",
       "      <th>31027</th>\n",
       "      <td>2015</td>\n",
       "      <td>2015</td>\n",
       "      <td>IL</td>\n",
       "      <td>Illinois</td>\n",
       "      <td>BRFSS</td>\n",
       "      <td>Diabetes</td>\n",
       "      <td>Prevalence of high cholesterol among adults ag...</td>\n",
       "      <td>%</td>\n",
       "      <td>Crude Prevalence</td>\n",
       "      <td>69</td>\n",
       "      <td>...</td>\n",
       "      <td>74.8</td>\n",
       "      <td>Gender</td>\n",
       "      <td>Female</td>\n",
       "      <td>(40.48501028300046, -88.99771017799969)</td>\n",
       "      <td>17</td>\n",
       "      <td>DIA</td>\n",
       "      <td>DIA11_1</td>\n",
       "      <td>CrdPrev</td>\n",
       "      <td>GENDER</td>\n",
       "      <td>GENF</td>\n",
       "    </tr>\n",
       "  </tbody>\n",
       "</table>\n",
       "<p>5 rows × 24 columns</p>\n",
       "</div>"
      ],
      "text/plain": [
       "       YearStart  YearEnd LocationAbbr LocationDesc DataSource     Topic  \\\n",
       "8414        2015     2015           GA      Georgia      BRFSS  Diabetes   \n",
       "16621       2015     2015           MO     Missouri      BRFSS  Diabetes   \n",
       "17009       2015     2015           NY     New York      BRFSS  Diabetes   \n",
       "17240       2015     2015           TX        Texas      BRFSS  Diabetes   \n",
       "31027       2015     2015           IL     Illinois      BRFSS  Diabetes   \n",
       "\n",
       "                                                Question DataValueUnit  \\\n",
       "8414    Diabetes prevalence among women aged 18-44 years             %   \n",
       "16621   Diabetes prevalence among women aged 18-44 years             %   \n",
       "17009   Diabetes prevalence among women aged 18-44 years             %   \n",
       "17240   Diabetes prevalence among women aged 18-44 years             %   \n",
       "31027  Prevalence of high cholesterol among adults ag...             %   \n",
       "\n",
       "          DataValueType DataValue        ...         HighConfidenceLimit  \\\n",
       "8414   Crude Prevalence       4.2        ...                         6.4   \n",
       "16621  Crude Prevalence       7.2        ...                         9.5   \n",
       "17009  Crude Prevalence       4.7        ...                         6.0   \n",
       "17240  Crude Prevalence       5.5        ...                         7.1   \n",
       "31027  Crude Prevalence        69        ...                        74.8   \n",
       "\n",
       "      StratificationCategory1 Stratification1  \\\n",
       "8414                  Overall         Overall   \n",
       "16621                 Overall         Overall   \n",
       "17009                 Overall         Overall   \n",
       "17240                 Overall         Overall   \n",
       "31027                  Gender          Female   \n",
       "\n",
       "                                    GeoLocation  LocationID TopicID  \\\n",
       "8414    (32.83968109300048, -83.62758034599966)          13     DIA   \n",
       "16621  (38.635790776000476, -92.56630005299968)          29     DIA   \n",
       "17009   (42.82700103200045, -75.54397042699964)          36     DIA   \n",
       "17240  (31.827240407000488, -99.42677020599967)          48     DIA   \n",
       "31027   (40.48501028300046, -88.99771017799969)          17     DIA   \n",
       "\n",
       "      QuestionID DataValueTypeID  StratificationCategoryID1 StratificationID1  \n",
       "8414      DIA2_2         CrdPrev                    OVERALL               OVR  \n",
       "16621     DIA2_2         CrdPrev                    OVERALL               OVR  \n",
       "17009     DIA2_2         CrdPrev                    OVERALL               OVR  \n",
       "17240     DIA2_2         CrdPrev                    OVERALL               OVR  \n",
       "31027    DIA11_1         CrdPrev                     GENDER              GENF  \n",
       "\n",
       "[5 rows x 24 columns]"
      ]
     },
     "execution_count": 15,
     "metadata": {},
     "output_type": "execute_result"
    }
   ],
   "source": [
    "## lets explore diabetes data\n",
    "\n",
    "df_diabetes = df[df['Topic']=='Diabetes']\n",
    "df_diabetes.head()"
   ]
  },
  {
   "cell_type": "code",
   "execution_count": 16,
   "metadata": {},
   "outputs": [
    {
     "data": {
      "text/html": [
       "<div>\n",
       "<style>\n",
       "    .dataframe thead tr:only-child th {\n",
       "        text-align: right;\n",
       "    }\n",
       "\n",
       "    .dataframe thead th {\n",
       "        text-align: left;\n",
       "    }\n",
       "\n",
       "    .dataframe tbody tr th {\n",
       "        vertical-align: top;\n",
       "    }\n",
       "</style>\n",
       "<table border=\"1\" class=\"dataframe\">\n",
       "  <thead>\n",
       "    <tr style=\"text-align: right;\">\n",
       "      <th></th>\n",
       "      <th>YearStart</th>\n",
       "      <th>YearEnd</th>\n",
       "      <th>LocationAbbr</th>\n",
       "      <th>LocationDesc</th>\n",
       "      <th>DataSource</th>\n",
       "      <th>Topic</th>\n",
       "      <th>Question</th>\n",
       "      <th>DataValueUnit</th>\n",
       "      <th>DataValueType</th>\n",
       "      <th>DataValue</th>\n",
       "      <th>...</th>\n",
       "      <th>HighConfidenceLimit</th>\n",
       "      <th>StratificationCategory1</th>\n",
       "      <th>Stratification1</th>\n",
       "      <th>GeoLocation</th>\n",
       "      <th>LocationID</th>\n",
       "      <th>TopicID</th>\n",
       "      <th>QuestionID</th>\n",
       "      <th>DataValueTypeID</th>\n",
       "      <th>StratificationCategoryID1</th>\n",
       "      <th>StratificationID1</th>\n",
       "    </tr>\n",
       "  </thead>\n",
       "  <tbody>\n",
       "    <tr>\n",
       "      <th>8414</th>\n",
       "      <td>2015</td>\n",
       "      <td>2015</td>\n",
       "      <td>GA</td>\n",
       "      <td>Georgia</td>\n",
       "      <td>BRFSS</td>\n",
       "      <td>Diabetes</td>\n",
       "      <td>Diabetes prevalence among women aged 18-44 years</td>\n",
       "      <td>%</td>\n",
       "      <td>Crude Prevalence</td>\n",
       "      <td>4.2</td>\n",
       "      <td>...</td>\n",
       "      <td>6.4</td>\n",
       "      <td>Overall</td>\n",
       "      <td>Overall</td>\n",
       "      <td>(32.83968109300048, -83.62758034599966)</td>\n",
       "      <td>13</td>\n",
       "      <td>DIA</td>\n",
       "      <td>DIA2_2</td>\n",
       "      <td>CrdPrev</td>\n",
       "      <td>OVERALL</td>\n",
       "      <td>OVR</td>\n",
       "    </tr>\n",
       "    <tr>\n",
       "      <th>16621</th>\n",
       "      <td>2015</td>\n",
       "      <td>2015</td>\n",
       "      <td>MO</td>\n",
       "      <td>Missouri</td>\n",
       "      <td>BRFSS</td>\n",
       "      <td>Diabetes</td>\n",
       "      <td>Diabetes prevalence among women aged 18-44 years</td>\n",
       "      <td>%</td>\n",
       "      <td>Crude Prevalence</td>\n",
       "      <td>7.2</td>\n",
       "      <td>...</td>\n",
       "      <td>9.5</td>\n",
       "      <td>Overall</td>\n",
       "      <td>Overall</td>\n",
       "      <td>(38.635790776000476, -92.56630005299968)</td>\n",
       "      <td>29</td>\n",
       "      <td>DIA</td>\n",
       "      <td>DIA2_2</td>\n",
       "      <td>CrdPrev</td>\n",
       "      <td>OVERALL</td>\n",
       "      <td>OVR</td>\n",
       "    </tr>\n",
       "    <tr>\n",
       "      <th>17009</th>\n",
       "      <td>2015</td>\n",
       "      <td>2015</td>\n",
       "      <td>NY</td>\n",
       "      <td>New York</td>\n",
       "      <td>BRFSS</td>\n",
       "      <td>Diabetes</td>\n",
       "      <td>Diabetes prevalence among women aged 18-44 years</td>\n",
       "      <td>%</td>\n",
       "      <td>Crude Prevalence</td>\n",
       "      <td>4.7</td>\n",
       "      <td>...</td>\n",
       "      <td>6.0</td>\n",
       "      <td>Overall</td>\n",
       "      <td>Overall</td>\n",
       "      <td>(42.82700103200045, -75.54397042699964)</td>\n",
       "      <td>36</td>\n",
       "      <td>DIA</td>\n",
       "      <td>DIA2_2</td>\n",
       "      <td>CrdPrev</td>\n",
       "      <td>OVERALL</td>\n",
       "      <td>OVR</td>\n",
       "    </tr>\n",
       "    <tr>\n",
       "      <th>17240</th>\n",
       "      <td>2015</td>\n",
       "      <td>2015</td>\n",
       "      <td>TX</td>\n",
       "      <td>Texas</td>\n",
       "      <td>BRFSS</td>\n",
       "      <td>Diabetes</td>\n",
       "      <td>Diabetes prevalence among women aged 18-44 years</td>\n",
       "      <td>%</td>\n",
       "      <td>Crude Prevalence</td>\n",
       "      <td>5.5</td>\n",
       "      <td>...</td>\n",
       "      <td>7.1</td>\n",
       "      <td>Overall</td>\n",
       "      <td>Overall</td>\n",
       "      <td>(31.827240407000488, -99.42677020599967)</td>\n",
       "      <td>48</td>\n",
       "      <td>DIA</td>\n",
       "      <td>DIA2_2</td>\n",
       "      <td>CrdPrev</td>\n",
       "      <td>OVERALL</td>\n",
       "      <td>OVR</td>\n",
       "    </tr>\n",
       "    <tr>\n",
       "      <th>31027</th>\n",
       "      <td>2015</td>\n",
       "      <td>2015</td>\n",
       "      <td>IL</td>\n",
       "      <td>Illinois</td>\n",
       "      <td>BRFSS</td>\n",
       "      <td>Diabetes</td>\n",
       "      <td>Prevalence of high cholesterol among adults ag...</td>\n",
       "      <td>%</td>\n",
       "      <td>Crude Prevalence</td>\n",
       "      <td>69</td>\n",
       "      <td>...</td>\n",
       "      <td>74.8</td>\n",
       "      <td>Gender</td>\n",
       "      <td>Female</td>\n",
       "      <td>(40.48501028300046, -88.99771017799969)</td>\n",
       "      <td>17</td>\n",
       "      <td>DIA</td>\n",
       "      <td>DIA11_1</td>\n",
       "      <td>CrdPrev</td>\n",
       "      <td>GENDER</td>\n",
       "      <td>GENF</td>\n",
       "    </tr>\n",
       "  </tbody>\n",
       "</table>\n",
       "<p>5 rows × 24 columns</p>\n",
       "</div>"
      ],
      "text/plain": [
       "       YearStart  YearEnd LocationAbbr LocationDesc DataSource     Topic  \\\n",
       "8414        2015     2015           GA      Georgia      BRFSS  Diabetes   \n",
       "16621       2015     2015           MO     Missouri      BRFSS  Diabetes   \n",
       "17009       2015     2015           NY     New York      BRFSS  Diabetes   \n",
       "17240       2015     2015           TX        Texas      BRFSS  Diabetes   \n",
       "31027       2015     2015           IL     Illinois      BRFSS  Diabetes   \n",
       "\n",
       "                                                Question DataValueUnit  \\\n",
       "8414    Diabetes prevalence among women aged 18-44 years             %   \n",
       "16621   Diabetes prevalence among women aged 18-44 years             %   \n",
       "17009   Diabetes prevalence among women aged 18-44 years             %   \n",
       "17240   Diabetes prevalence among women aged 18-44 years             %   \n",
       "31027  Prevalence of high cholesterol among adults ag...             %   \n",
       "\n",
       "          DataValueType DataValue        ...         HighConfidenceLimit  \\\n",
       "8414   Crude Prevalence       4.2        ...                         6.4   \n",
       "16621  Crude Prevalence       7.2        ...                         9.5   \n",
       "17009  Crude Prevalence       4.7        ...                         6.0   \n",
       "17240  Crude Prevalence       5.5        ...                         7.1   \n",
       "31027  Crude Prevalence        69        ...                        74.8   \n",
       "\n",
       "      StratificationCategory1 Stratification1  \\\n",
       "8414                  Overall         Overall   \n",
       "16621                 Overall         Overall   \n",
       "17009                 Overall         Overall   \n",
       "17240                 Overall         Overall   \n",
       "31027                  Gender          Female   \n",
       "\n",
       "                                    GeoLocation  LocationID TopicID  \\\n",
       "8414    (32.83968109300048, -83.62758034599966)          13     DIA   \n",
       "16621  (38.635790776000476, -92.56630005299968)          29     DIA   \n",
       "17009   (42.82700103200045, -75.54397042699964)          36     DIA   \n",
       "17240  (31.827240407000488, -99.42677020599967)          48     DIA   \n",
       "31027   (40.48501028300046, -88.99771017799969)          17     DIA   \n",
       "\n",
       "      QuestionID DataValueTypeID  StratificationCategoryID1 StratificationID1  \n",
       "8414      DIA2_2         CrdPrev                    OVERALL               OVR  \n",
       "16621     DIA2_2         CrdPrev                    OVERALL               OVR  \n",
       "17009     DIA2_2         CrdPrev                    OVERALL               OVR  \n",
       "17240     DIA2_2         CrdPrev                    OVERALL               OVR  \n",
       "31027    DIA11_1         CrdPrev                     GENDER              GENF  \n",
       "\n",
       "[5 rows x 24 columns]"
      ]
     },
     "execution_count": 16,
     "metadata": {},
     "output_type": "execute_result"
    }
   ],
   "source": []
  },
  {
   "cell_type": "code",
   "execution_count": 17,
   "metadata": {},
   "outputs": [
    {
     "data": {
      "text/plain": [
       "Text(0.5,1,'Count vs Question Id')"
      ]
     },
     "execution_count": 17,
     "metadata": {},
     "output_type": "execute_result"
    },
    {
     "data": {
      "image/png": "[encoded data removed]",
      "text/plain": [
       "<matplotlib.figure.Figure at 0x118487be0>"
      ]
     },
     "metadata": {},
     "output_type": "display_data"
    }
   ],
   "source": [
    "plt.figure(figsize=(20,6))\n",
    "df_diabetes['QuestionID'].hist(bins =50)\n",
    "plt.xlabel('Question ID')\n",
    "plt.ylabel('Count')\n",
    "plt.title('Count vs Question Id')"
   ]
  },
  {
   "cell_type": "code",
   "execution_count": 18,
   "metadata": {},
   "outputs": [
    {
     "data": {
      "text/plain": [
       "Mortality due to diabetes reported as any listed cause of death    6135\n",
       "Name: Question, dtype: int64"
      ]
     },
     "execution_count": 18,
     "metadata": {},
     "output_type": "execute_result"
    }
   ],
   "source": [
    "df_diabetes[df_diabetes['QuestionID']=='DIA1_1']['Question'].value_counts()"
   ]
  },
  {
   "cell_type": "code",
   "execution_count": 200,
   "metadata": {},
   "outputs": [
    {
     "data": {
      "text/html": [
       "<div>\n",
       "<style>\n",
       "    .dataframe thead tr:only-child th {\n",
       "        text-align: right;\n",
       "    }\n",
       "\n",
       "    .dataframe thead th {\n",
       "        text-align: left;\n",
       "    }\n",
       "\n",
       "    .dataframe tbody tr th {\n",
       "        vertical-align: top;\n",
       "    }\n",
       "</style>\n",
       "<table border=\"1\" class=\"dataframe\">\n",
       "  <thead>\n",
       "    <tr style=\"text-align: right;\">\n",
       "      <th></th>\n",
       "      <th>YearStart</th>\n",
       "      <th>YearEnd</th>\n",
       "      <th>LocationAbbr</th>\n",
       "      <th>LocationDesc</th>\n",
       "      <th>DataSource</th>\n",
       "      <th>Topic</th>\n",
       "      <th>Question</th>\n",
       "      <th>DataValueUnit</th>\n",
       "      <th>DataValueType</th>\n",
       "      <th>DataValue</th>\n",
       "      <th>...</th>\n",
       "      <th>HighConfidenceLimit</th>\n",
       "      <th>StratificationCategory1</th>\n",
       "      <th>Stratification1</th>\n",
       "      <th>GeoLocation</th>\n",
       "      <th>LocationID</th>\n",
       "      <th>TopicID</th>\n",
       "      <th>QuestionID</th>\n",
       "      <th>DataValueTypeID</th>\n",
       "      <th>StratificationCategoryID1</th>\n",
       "      <th>StratificationID1</th>\n",
       "    </tr>\n",
       "  </thead>\n",
       "  <tbody>\n",
       "    <tr>\n",
       "      <th>244336</th>\n",
       "      <td>2014</td>\n",
       "      <td>2014</td>\n",
       "      <td>AK</td>\n",
       "      <td>Alaska</td>\n",
       "      <td>NVSS</td>\n",
       "      <td>Diabetes</td>\n",
       "      <td>Mortality due to diabetes reported as any list...</td>\n",
       "      <td>cases per 100,000</td>\n",
       "      <td>Age-adjusted Rate</td>\n",
       "      <td>59.8</td>\n",
       "      <td>...</td>\n",
       "      <td>81.7</td>\n",
       "      <td>Race/Ethnicity</td>\n",
       "      <td>American Indian or Alaska Native</td>\n",
       "      <td>(64.84507995700051, -147.72205903599973)</td>\n",
       "      <td>2</td>\n",
       "      <td>DIA</td>\n",
       "      <td>DIA1_1</td>\n",
       "      <td>AgeAdjRate</td>\n",
       "      <td>RACE</td>\n",
       "      <td>AIAN</td>\n",
       "    </tr>\n",
       "    <tr>\n",
       "      <th>244337</th>\n",
       "      <td>2014</td>\n",
       "      <td>2014</td>\n",
       "      <td>AK</td>\n",
       "      <td>Alaska</td>\n",
       "      <td>NVSS</td>\n",
       "      <td>Diabetes</td>\n",
       "      <td>Mortality due to diabetes reported as any list...</td>\n",
       "      <td>cases per 100,000</td>\n",
       "      <td>Age-adjusted Rate</td>\n",
       "      <td>85.1</td>\n",
       "      <td>...</td>\n",
       "      <td>125.6</td>\n",
       "      <td>Race/Ethnicity</td>\n",
       "      <td>Asian or Pacific Islander</td>\n",
       "      <td>(64.84507995700051, -147.72205903599973)</td>\n",
       "      <td>2</td>\n",
       "      <td>DIA</td>\n",
       "      <td>DIA1_1</td>\n",
       "      <td>AgeAdjRate</td>\n",
       "      <td>RACE</td>\n",
       "      <td>API</td>\n",
       "    </tr>\n",
       "    <tr>\n",
       "      <th>244338</th>\n",
       "      <td>2014</td>\n",
       "      <td>2014</td>\n",
       "      <td>AK</td>\n",
       "      <td>Alaska</td>\n",
       "      <td>NVSS</td>\n",
       "      <td>Diabetes</td>\n",
       "      <td>Mortality due to diabetes reported as any list...</td>\n",
       "      <td>cases per 100,000</td>\n",
       "      <td>Age-adjusted Rate</td>\n",
       "      <td></td>\n",
       "      <td>...</td>\n",
       "      <td>NaN</td>\n",
       "      <td>Race/Ethnicity</td>\n",
       "      <td>Black, non-Hispanic</td>\n",
       "      <td>(64.84507995700051, -147.72205903599973)</td>\n",
       "      <td>2</td>\n",
       "      <td>DIA</td>\n",
       "      <td>DIA1_1</td>\n",
       "      <td>AgeAdjRate</td>\n",
       "      <td>RACE</td>\n",
       "      <td>BLK</td>\n",
       "    </tr>\n",
       "    <tr>\n",
       "      <th>244339</th>\n",
       "      <td>2014</td>\n",
       "      <td>2014</td>\n",
       "      <td>AK</td>\n",
       "      <td>Alaska</td>\n",
       "      <td>NVSS</td>\n",
       "      <td>Diabetes</td>\n",
       "      <td>Mortality due to diabetes reported as any list...</td>\n",
       "      <td>cases per 100,000</td>\n",
       "      <td>Age-adjusted Rate</td>\n",
       "      <td>48.6</td>\n",
       "      <td>...</td>\n",
       "      <td>57.4</td>\n",
       "      <td>Gender</td>\n",
       "      <td>Female</td>\n",
       "      <td>(64.84507995700051, -147.72205903599973)</td>\n",
       "      <td>2</td>\n",
       "      <td>DIA</td>\n",
       "      <td>DIA1_1</td>\n",
       "      <td>AgeAdjRate</td>\n",
       "      <td>GENDER</td>\n",
       "      <td>GENF</td>\n",
       "    </tr>\n",
       "    <tr>\n",
       "      <th>244340</th>\n",
       "      <td>2014</td>\n",
       "      <td>2014</td>\n",
       "      <td>AK</td>\n",
       "      <td>Alaska</td>\n",
       "      <td>NVSS</td>\n",
       "      <td>Diabetes</td>\n",
       "      <td>Mortality due to diabetes reported as any list...</td>\n",
       "      <td>cases per 100,000</td>\n",
       "      <td>Age-adjusted Rate</td>\n",
       "      <td></td>\n",
       "      <td>...</td>\n",
       "      <td>NaN</td>\n",
       "      <td>Race/Ethnicity</td>\n",
       "      <td>Hispanic</td>\n",
       "      <td>(64.84507995700051, -147.72205903599973)</td>\n",
       "      <td>2</td>\n",
       "      <td>DIA</td>\n",
       "      <td>DIA1_1</td>\n",
       "      <td>AgeAdjRate</td>\n",
       "      <td>RACE</td>\n",
       "      <td>HIS</td>\n",
       "    </tr>\n",
       "  </tbody>\n",
       "</table>\n",
       "<p>5 rows × 24 columns</p>\n",
       "</div>"
      ],
      "text/plain": [
       "        YearStart  YearEnd LocationAbbr LocationDesc DataSource     Topic  \\\n",
       "244336       2014     2014           AK       Alaska       NVSS  Diabetes   \n",
       "244337       2014     2014           AK       Alaska       NVSS  Diabetes   \n",
       "244338       2014     2014           AK       Alaska       NVSS  Diabetes   \n",
       "244339       2014     2014           AK       Alaska       NVSS  Diabetes   \n",
       "244340       2014     2014           AK       Alaska       NVSS  Diabetes   \n",
       "\n",
       "                                                 Question      DataValueUnit  \\\n",
       "244336  Mortality due to diabetes reported as any list...  cases per 100,000   \n",
       "244337  Mortality due to diabetes reported as any list...  cases per 100,000   \n",
       "244338  Mortality due to diabetes reported as any list...  cases per 100,000   \n",
       "244339  Mortality due to diabetes reported as any list...  cases per 100,000   \n",
       "244340  Mortality due to diabetes reported as any list...  cases per 100,000   \n",
       "\n",
       "            DataValueType DataValue        ...         HighConfidenceLimit  \\\n",
       "244336  Age-adjusted Rate      59.8        ...                        81.7   \n",
       "244337  Age-adjusted Rate      85.1        ...                       125.6   \n",
       "244338  Age-adjusted Rate                  ...                         NaN   \n",
       "244339  Age-adjusted Rate      48.6        ...                        57.4   \n",
       "244340  Age-adjusted Rate                  ...                         NaN   \n",
       "\n",
       "       StratificationCategory1                   Stratification1  \\\n",
       "244336          Race/Ethnicity  American Indian or Alaska Native   \n",
       "244337          Race/Ethnicity         Asian or Pacific Islander   \n",
       "244338          Race/Ethnicity               Black, non-Hispanic   \n",
       "244339                  Gender                            Female   \n",
       "244340          Race/Ethnicity                          Hispanic   \n",
       "\n",
       "                                     GeoLocation  LocationID TopicID  \\\n",
       "244336  (64.84507995700051, -147.72205903599973)           2     DIA   \n",
       "244337  (64.84507995700051, -147.72205903599973)           2     DIA   \n",
       "244338  (64.84507995700051, -147.72205903599973)           2     DIA   \n",
       "244339  (64.84507995700051, -147.72205903599973)           2     DIA   \n",
       "244340  (64.84507995700051, -147.72205903599973)           2     DIA   \n",
       "\n",
       "       QuestionID DataValueTypeID  StratificationCategoryID1 StratificationID1  \n",
       "244336     DIA1_1      AgeAdjRate                       RACE              AIAN  \n",
       "244337     DIA1_1      AgeAdjRate                       RACE               API  \n",
       "244338     DIA1_1      AgeAdjRate                       RACE               BLK  \n",
       "244339     DIA1_1      AgeAdjRate                     GENDER              GENF  \n",
       "244340     DIA1_1      AgeAdjRate                       RACE               HIS  \n",
       "\n",
       "[5 rows x 24 columns]"
      ]
     },
     "execution_count": 200,
     "metadata": {},
     "output_type": "execute_result"
    }
   ],
   "source": [
    "## lets pick question id = DIA1_1 as thats the most popular question\n",
    "df_diabetes_ID1 = df_diabetes[df_diabetes['QuestionID']=='DIA1_1']\n",
    "df_diabetes_ID1.head()"
   ]
  },
  {
   "cell_type": "code",
   "execution_count": null,
   "metadata": {},
   "outputs": [],
   "source": []
  },
  {
   "cell_type": "code",
   "execution_count": 201,
   "metadata": {},
   "outputs": [
    {
     "name": "stdout",
     "output_type": "stream",
     "text": [
      "<class 'pandas.core.frame.DataFrame'>\n",
      "Int64Index: 6135 entries, 244336 to 400308\n",
      "Data columns (total 24 columns):\n",
      "YearStart                    6135 non-null int64\n",
      "YearEnd                      6135 non-null int64\n",
      "LocationAbbr                 6135 non-null object\n",
      "LocationDesc                 6135 non-null object\n",
      "DataSource                   6135 non-null object\n",
      "Topic                        6135 non-null object\n",
      "Question                     6135 non-null object\n",
      "DataValueUnit                4090 non-null object\n",
      "DataValueType                6135 non-null object\n",
      "DataValue                    6135 non-null object\n",
      "DataValueAlt                 4998 non-null float64\n",
      "DataValueFootnoteSymbol      6135 non-null object\n",
      "DatavalueFootnote            6120 non-null object\n",
      "LowConfidenceLimit           3332 non-null float64\n",
      "HighConfidenceLimit          3332 non-null float64\n",
      "StratificationCategory1      6135 non-null object\n",
      "Stratification1              6135 non-null object\n",
      "GeoLocation                  6120 non-null object\n",
      "LocationID                   6135 non-null int64\n",
      "TopicID                      6135 non-null object\n",
      "QuestionID                   6135 non-null object\n",
      "DataValueTypeID              6135 non-null object\n",
      "StratificationCategoryID1    6135 non-null object\n",
      "StratificationID1            6135 non-null object\n",
      "dtypes: float64(3), int64(3), object(18)\n",
      "memory usage: 1.2+ MB\n"
     ]
    }
   ],
   "source": [
    "df_diabetes_ID1.info()"
   ]
  },
  {
   "cell_type": "code",
   "execution_count": 202,
   "metadata": {},
   "outputs": [
    {
     "data": {
      "text/plain": [
       "(0, 24)"
      ]
     },
     "execution_count": 202,
     "metadata": {},
     "output_type": "execute_result"
    }
   ],
   "source": [
    "df_diabetes_ID1[df_diabetes_ID1['DataValue'].isnull()].shape"
   ]
  },
  {
   "cell_type": "code",
   "execution_count": 203,
   "metadata": {},
   "outputs": [],
   "source": [
    "## no null values"
   ]
  },
  {
   "cell_type": "code",
   "execution_count": 204,
   "metadata": {
    "collapsed": true
   },
   "outputs": [],
   "source": [
    "## lets try to high confidence limit and data value. As high confidence limit is string with float values so converting\n",
    "## it to numeric"
   ]
  },
  {
   "cell_type": "code",
   "execution_count": null,
   "metadata": {},
   "outputs": [],
   "source": []
  },
  {
   "cell_type": "code",
   "execution_count": 210,
   "metadata": {},
   "outputs": [
    {
     "name": "stderr",
     "output_type": "stream",
     "text": [
      "/Users/sulbha/anaconda/lib/python3.6/site-packages/ipykernel_launcher.py:1: SettingWithCopyWarning: \n",
      "A value is trying to be set on a copy of a slice from a DataFrame.\n",
      "Try using .loc[row_indexer,col_indexer] = value instead\n",
      "\n",
      "See the caveats in the documentation: http://pandas.pydata.org/pandas-docs/stable/indexing.html#indexing-view-versus-copy\n",
      "  \"\"\"Entry point for launching an IPython kernel.\n"
     ]
    }
   ],
   "source": [
    "df_diabetes_ID1['HighConfidenceLimit'] =np.round(df_diabetes_ID1['HighConfidenceLimit'])"
   ]
  },
  {
   "cell_type": "code",
   "execution_count": 211,
   "metadata": {},
   "outputs": [
    {
     "name": "stderr",
     "output_type": "stream",
     "text": [
      "/Users/sulbha/anaconda/lib/python3.6/site-packages/ipykernel_launcher.py:1: SettingWithCopyWarning: \n",
      "A value is trying to be set on a copy of a slice from a DataFrame.\n",
      "Try using .loc[row_indexer,col_indexer] = value instead\n",
      "\n",
      "See the caveats in the documentation: http://pandas.pydata.org/pandas-docs/stable/indexing.html#indexing-view-versus-copy\n",
      "  \"\"\"Entry point for launching an IPython kernel.\n"
     ]
    }
   ],
   "source": [
    "df_diabetes_ID1['HighConfidenceLimit'] =pd.to_numeric(df_diabetes_ID1['HighConfidenceLimit'], downcast='signed')"
   ]
  },
  {
   "cell_type": "code",
   "execution_count": 212,
   "metadata": {},
   "outputs": [
    {
     "data": {
      "text/plain": [
       "244336     82.0\n",
       "244337    126.0\n",
       "244338      NaN\n",
       "244339     57.0\n",
       "244340      NaN\n",
       "Name: HighConfidenceLimit, dtype: float64"
      ]
     },
     "execution_count": 212,
     "metadata": {},
     "output_type": "execute_result"
    }
   ],
   "source": [
    "df_diabetes_ID1['HighConfidenceLimit'].head()"
   ]
  },
  {
   "cell_type": "code",
   "execution_count": 213,
   "metadata": {},
   "outputs": [
    {
     "data": {
      "text/plain": [
       "(2803, 24)"
      ]
     },
     "execution_count": 213,
     "metadata": {},
     "output_type": "execute_result"
    }
   ],
   "source": [
    "df_diabetes_ID1[df_diabetes_ID1['HighConfidenceLimit'].isnull()].shape"
   ]
  },
  {
   "cell_type": "code",
   "execution_count": 214,
   "metadata": {},
   "outputs": [
    {
     "data": {
      "text/plain": [
       "84.51110444177671"
      ]
     },
     "execution_count": 214,
     "metadata": {},
     "output_type": "execute_result"
    }
   ],
   "source": [
    "mean_conf = np.mean(df_diabetes_ID1['HighConfidenceLimit'])\n",
    "mean_conf"
   ]
  },
  {
   "cell_type": "code",
   "execution_count": 215,
   "metadata": {},
   "outputs": [
    {
     "name": "stderr",
     "output_type": "stream",
     "text": [
      "/Users/sulbha/anaconda/lib/python3.6/site-packages/pandas/core/generic.py:3549: SettingWithCopyWarning: \n",
      "A value is trying to be set on a copy of a slice from a DataFrame\n",
      "\n",
      "See the caveats in the documentation: http://pandas.pydata.org/pandas-docs/stable/indexing.html#indexing-view-versus-copy\n",
      "  self._update_inplace(new_data)\n"
     ]
    },
    {
     "data": {
      "text/plain": [
       "(0, 24)"
      ]
     },
     "execution_count": 215,
     "metadata": {},
     "output_type": "execute_result"
    }
   ],
   "source": [
    "## fill \n",
    "df_diabetes_ID1['HighConfidenceLimit'].fillna(value = mean_conf,  inplace= True)\n",
    "df_diabetes_ID1[df_diabetes_ID1['HighConfidenceLimit'].isnull()].shape"
   ]
  },
  {
   "cell_type": "code",
   "execution_count": 216,
   "metadata": {},
   "outputs": [
    {
     "data": {
      "text/plain": [
       "'object'"
      ]
     },
     "execution_count": 216,
     "metadata": {},
     "output_type": "execute_result"
    }
   ],
   "source": [
    "df_diabetes_ID1['DataValue'].dtype.name"
   ]
  },
  {
   "cell_type": "code",
   "execution_count": 217,
   "metadata": {},
   "outputs": [
    {
     "data": {
      "text/plain": [
       "(0, 24)"
      ]
     },
     "execution_count": 217,
     "metadata": {},
     "output_type": "execute_result"
    }
   ],
   "source": [
    "df_diabetes_ID1[df_diabetes_ID1['DataValue'].isnull()].shape"
   ]
  },
  {
   "cell_type": "code",
   "execution_count": 218,
   "metadata": {},
   "outputs": [
    {
     "data": {
      "text/plain": [
       "244336    59.8\n",
       "244337    85.1\n",
       "244338        \n",
       "244339    48.6\n",
       "244340        \n",
       "Name: DataValue, dtype: object"
      ]
     },
     "execution_count": 218,
     "metadata": {},
     "output_type": "execute_result"
    }
   ],
   "source": [
    "df_diabetes_ID1['DataValue'].head()"
   ]
  },
  {
   "cell_type": "code",
   "execution_count": 219,
   "metadata": {},
   "outputs": [
    {
     "data": {
      "text/plain": [
       "(1137, 24)"
      ]
     },
     "execution_count": 219,
     "metadata": {},
     "output_type": "execute_result"
    }
   ],
   "source": [
    "df_diabetes_ID1[df_diabetes_ID1['DataValue']==' '].shape"
   ]
  },
  {
   "cell_type": "code",
   "execution_count": 220,
   "metadata": {},
   "outputs": [],
   "source": [
    "## replace \" \" with 0\n",
    "def impute_value(cols):\n",
    "    val = cols[0]\n",
    "    \n",
    "    if val==\" \":\n",
    "        return '0'\n",
    "    else:\n",
    "        return val"
   ]
  },
  {
   "cell_type": "code",
   "execution_count": 221,
   "metadata": {},
   "outputs": [
    {
     "name": "stderr",
     "output_type": "stream",
     "text": [
      "/Users/sulbha/anaconda/lib/python3.6/site-packages/ipykernel_launcher.py:1: SettingWithCopyWarning: \n",
      "A value is trying to be set on a copy of a slice from a DataFrame.\n",
      "Try using .loc[row_indexer,col_indexer] = value instead\n",
      "\n",
      "See the caveats in the documentation: http://pandas.pydata.org/pandas-docs/stable/indexing.html#indexing-view-versus-copy\n",
      "  \"\"\"Entry point for launching an IPython kernel.\n"
     ]
    },
    {
     "data": {
      "text/plain": [
       "(0, 24)"
      ]
     },
     "execution_count": 221,
     "metadata": {},
     "output_type": "execute_result"
    }
   ],
   "source": [
    "df_diabetes_ID1['DataValue'] = df_diabetes_ID1[['DataValue']].apply(impute_value, axis = 1) \n",
    "df_diabetes_ID1[df_diabetes_ID1['DataValue']==' '].shape"
   ]
  },
  {
   "cell_type": "code",
   "execution_count": 226,
   "metadata": {},
   "outputs": [
    {
     "data": {
      "text/plain": [
       "(1137, 24)"
      ]
     },
     "execution_count": 226,
     "metadata": {},
     "output_type": "execute_result"
    }
   ],
   "source": [
    "\n",
    "df_diabetes_ID1[df_diabetes_ID1['DataValue']=='0'].shape"
   ]
  },
  {
   "cell_type": "code",
   "execution_count": 227,
   "metadata": {},
   "outputs": [
    {
     "data": {
      "text/plain": [
       "244336    59.8\n",
       "244337    85.1\n",
       "244338       0\n",
       "244339    48.6\n",
       "244340       0\n",
       "Name: DataValue, dtype: object"
      ]
     },
     "execution_count": 227,
     "metadata": {},
     "output_type": "execute_result"
    }
   ],
   "source": [
    "df_diabetes_ID1['DataValue'].head()"
   ]
  },
  {
   "cell_type": "code",
   "execution_count": 228,
   "metadata": {},
   "outputs": [
    {
     "name": "stderr",
     "output_type": "stream",
     "text": [
      "/Users/sulbha/anaconda/lib/python3.6/site-packages/ipykernel_launcher.py:1: SettingWithCopyWarning: \n",
      "A value is trying to be set on a copy of a slice from a DataFrame.\n",
      "Try using .loc[row_indexer,col_indexer] = value instead\n",
      "\n",
      "See the caveats in the documentation: http://pandas.pydata.org/pandas-docs/stable/indexing.html#indexing-view-versus-copy\n",
      "  \"\"\"Entry point for launching an IPython kernel.\n"
     ]
    },
    {
     "data": {
      "text/plain": [
       "244336    59.8\n",
       "244337    85.1\n",
       "244338     0.0\n",
       "244339    48.6\n",
       "244340     0.0\n",
       "Name: DataValue, dtype: float64"
      ]
     },
     "execution_count": 228,
     "metadata": {},
     "output_type": "execute_result"
    }
   ],
   "source": [
    "df_diabetes_ID1['DataValue'] = pd.to_numeric(df_diabetes_ID1['DataValue'], downcast='signed')\n",
    "df_diabetes_ID1['DataValue'].head()\n"
   ]
  },
  {
   "cell_type": "code",
   "execution_count": 229,
   "metadata": {},
   "outputs": [
    {
     "name": "stderr",
     "output_type": "stream",
     "text": [
      "/Users/sulbha/anaconda/lib/python3.6/site-packages/ipykernel_launcher.py:1: SettingWithCopyWarning: \n",
      "A value is trying to be set on a copy of a slice from a DataFrame.\n",
      "Try using .loc[row_indexer,col_indexer] = value instead\n",
      "\n",
      "See the caveats in the documentation: http://pandas.pydata.org/pandas-docs/stable/indexing.html#indexing-view-versus-copy\n",
      "  \"\"\"Entry point for launching an IPython kernel.\n"
     ]
    },
    {
     "data": {
      "text/plain": [
       "count      6135.000000\n",
       "mean        772.214996\n",
       "std        6467.160981\n",
       "min           0.000000\n",
       "25%          33.000000\n",
       "50%          74.000000\n",
       "75%         126.000000\n",
       "max      223343.000000\n",
       "Name: DataValue, dtype: float64"
      ]
     },
     "execution_count": 229,
     "metadata": {},
     "output_type": "execute_result"
    }
   ],
   "source": [
    "df_diabetes_ID1['DataValue'] = np.round(df_diabetes_ID1['DataValue'])\n",
    "df_diabetes_ID1['DataValue'].describe()"
   ]
  },
  {
   "cell_type": "code",
   "execution_count": 230,
   "metadata": {},
   "outputs": [
    {
     "data": {
      "text/plain": [
       "<seaborn.axisgrid.JointGrid at 0x11c264320>"
      ]
     },
     "execution_count": 230,
     "metadata": {},
     "output_type": "execute_result"
    },
    {
     "data": {
      "image/png": "[encoded data removed]",
      "text/plain": [
       "<matplotlib.figure.Figure at 0x11c264cf8>"
      ]
     },
     "metadata": {},
     "output_type": "display_data"
    }
   ],
   "source": [
    "sns.jointplot(y='DataValue', x = 'HighConfidenceLimit', data = df_diabetes_ID1)"
   ]
  },
  {
   "cell_type": "code",
   "execution_count": 231,
   "metadata": {},
   "outputs": [],
   "source": [
    "## linear relationship"
   ]
  },
  {
   "cell_type": "code",
   "execution_count": 232,
   "metadata": {},
   "outputs": [
    {
     "data": {
      "text/plain": [
       "<seaborn.axisgrid.JointGrid at 0x11c3254e0>"
      ]
     },
     "execution_count": 232,
     "metadata": {},
     "output_type": "execute_result"
    },
    {
     "data": {
      "image/png": "[encoded data removed]",
      "text/plain": [
       "<matplotlib.figure.Figure at 0x11c326c88>"
      ]
     },
     "metadata": {},
     "output_type": "display_data"
    }
   ],
   "source": [
    "sns.jointplot(x='DataValue', y = 'LowConfidenceLimit', data = df_diabetes_ID1)"
   ]
  },
  {
   "cell_type": "code",
   "execution_count": 233,
   "metadata": {},
   "outputs": [
    {
     "data": {
      "text/plain": [
       "<seaborn.axisgrid.FacetGrid at 0x11c2642b0>"
      ]
     },
     "execution_count": 233,
     "metadata": {},
     "output_type": "execute_result"
    },
    {
     "data": {
      "image/png": "[encoded data removed]",
      "text/plain": [
       "<matplotlib.figure.Figure at 0x11d058438>"
      ]
     },
     "metadata": {},
     "output_type": "display_data"
    }
   ],
   "source": [
    "sns.lmplot(x='DataValue', y = 'HighConfidenceLimit', data = df_diabetes_ID1)"
   ]
  },
  {
   "cell_type": "code",
   "execution_count": 234,
   "metadata": {},
   "outputs": [
    {
     "data": {
      "text/plain": [
       "<seaborn.axisgrid.FacetGrid at 0x11bf5c8d0>"
      ]
     },
     "execution_count": 234,
     "metadata": {},
     "output_type": "execute_result"
    },
    {
     "data": {
      "image/png": "[encoded data removed]",
      "text/plain": [
       "<matplotlib.figure.Figure at 0x11bf5c320>"
      ]
     },
     "metadata": {},
     "output_type": "display_data"
    }
   ],
   "source": [
    "sns.lmplot(x='DataValue', y = 'LowConfidenceLimit', data = df_diabetes_ID1)"
   ]
  },
  {
   "cell_type": "code",
   "execution_count": 239,
   "metadata": {},
   "outputs": [
    {
     "data": {
      "text/plain": [
       "<seaborn.axisgrid.JointGrid at 0x11d69c940>"
      ]
     },
     "execution_count": 239,
     "metadata": {},
     "output_type": "execute_result"
    },
    {
     "data": {
      "image/png": "[encoded data removed]",
      "text/plain": [
       "<matplotlib.figure.Figure at 0x11d69c160>"
      ]
     },
     "metadata": {},
     "output_type": "display_data"
    }
   ],
   "source": [
    "#sns.set(rc={'figure.figsize':(20.7,8.27)})\n",
    "#sns.set_style(\"ticks\", {\"xtick.major.size\": 8, \"ytick.major.size\": 8})\n",
    "sns.jointplot(y='DataValue', x = 'YearStart', data = df_diabetes_ID1, size =8, ylim=20000)\n"
   ]
  },
  {
   "cell_type": "code",
   "execution_count": 153,
   "metadata": {
    "collapsed": true
   },
   "outputs": [],
   "source": [
    "## Data values are increasing by each year"
   ]
  },
  {
   "cell_type": "code",
   "execution_count": null,
   "metadata": {
    "collapsed": true
   },
   "outputs": [],
   "source": []
  },
  {
   "cell_type": "code",
   "execution_count": 240,
   "metadata": {},
   "outputs": [
    {
     "data": {
      "text/plain": [
       "<seaborn.axisgrid.JointGrid at 0x128658cc0>"
      ]
     },
     "execution_count": 240,
     "metadata": {},
     "output_type": "execute_result"
    },
    {
     "data": {
      "image/png": "[encoded data removed]",
      "text/plain": [
       "<matplotlib.figure.Figure at 0x128658e80>"
      ]
     },
     "metadata": {},
     "output_type": "display_data"
    }
   ],
   "source": [
    "sns.jointplot(y='DataValue', x = 'YearEnd', data = df_diabetes_ID1, size =8, ylim=20000)"
   ]
  },
  {
   "cell_type": "code",
   "execution_count": 155,
   "metadata": {},
   "outputs": [
    {
     "data": {
      "text/html": [
       "<div>\n",
       "<style>\n",
       "    .dataframe thead tr:only-child th {\n",
       "        text-align: right;\n",
       "    }\n",
       "\n",
       "    .dataframe thead th {\n",
       "        text-align: left;\n",
       "    }\n",
       "\n",
       "    .dataframe tbody tr th {\n",
       "        vertical-align: top;\n",
       "    }\n",
       "</style>\n",
       "<table border=\"1\" class=\"dataframe\">\n",
       "  <thead>\n",
       "    <tr style=\"text-align: right;\">\n",
       "      <th></th>\n",
       "      <th>YearStart</th>\n",
       "      <th>YearEnd</th>\n",
       "      <th>LocationAbbr</th>\n",
       "      <th>LocationDesc</th>\n",
       "      <th>DataSource</th>\n",
       "      <th>Topic</th>\n",
       "      <th>Question</th>\n",
       "      <th>DataValueUnit</th>\n",
       "      <th>DataValueType</th>\n",
       "      <th>DataValue</th>\n",
       "      <th>...</th>\n",
       "      <th>HighConfidenceLimit</th>\n",
       "      <th>StratificationCategory1</th>\n",
       "      <th>Stratification1</th>\n",
       "      <th>GeoLocation</th>\n",
       "      <th>LocationID</th>\n",
       "      <th>TopicID</th>\n",
       "      <th>QuestionID</th>\n",
       "      <th>DataValueTypeID</th>\n",
       "      <th>StratificationCategoryID1</th>\n",
       "      <th>StratificationID1</th>\n",
       "    </tr>\n",
       "  </thead>\n",
       "  <tbody>\n",
       "    <tr>\n",
       "      <th>244336</th>\n",
       "      <td>2014</td>\n",
       "      <td>2014</td>\n",
       "      <td>AK</td>\n",
       "      <td>Alaska</td>\n",
       "      <td>NVSS</td>\n",
       "      <td>Diabetes</td>\n",
       "      <td>Mortality due to diabetes reported as any list...</td>\n",
       "      <td>cases per 100,000</td>\n",
       "      <td>Age-adjusted Rate</td>\n",
       "      <td>60.0</td>\n",
       "      <td>...</td>\n",
       "      <td>82.000000</td>\n",
       "      <td>Race/Ethnicity</td>\n",
       "      <td>American Indian or Alaska Native</td>\n",
       "      <td>(64.84507995700051, -147.72205903599973)</td>\n",
       "      <td>2</td>\n",
       "      <td>DIA</td>\n",
       "      <td>DIA1_1</td>\n",
       "      <td>AgeAdjRate</td>\n",
       "      <td>RACE</td>\n",
       "      <td>AIAN</td>\n",
       "    </tr>\n",
       "    <tr>\n",
       "      <th>244337</th>\n",
       "      <td>2014</td>\n",
       "      <td>2014</td>\n",
       "      <td>AK</td>\n",
       "      <td>Alaska</td>\n",
       "      <td>NVSS</td>\n",
       "      <td>Diabetes</td>\n",
       "      <td>Mortality due to diabetes reported as any list...</td>\n",
       "      <td>cases per 100,000</td>\n",
       "      <td>Age-adjusted Rate</td>\n",
       "      <td>85.0</td>\n",
       "      <td>...</td>\n",
       "      <td>126.000000</td>\n",
       "      <td>Race/Ethnicity</td>\n",
       "      <td>Asian or Pacific Islander</td>\n",
       "      <td>(64.84507995700051, -147.72205903599973)</td>\n",
       "      <td>2</td>\n",
       "      <td>DIA</td>\n",
       "      <td>DIA1_1</td>\n",
       "      <td>AgeAdjRate</td>\n",
       "      <td>RACE</td>\n",
       "      <td>API</td>\n",
       "    </tr>\n",
       "    <tr>\n",
       "      <th>244338</th>\n",
       "      <td>2014</td>\n",
       "      <td>2014</td>\n",
       "      <td>AK</td>\n",
       "      <td>Alaska</td>\n",
       "      <td>NVSS</td>\n",
       "      <td>Diabetes</td>\n",
       "      <td>Mortality due to diabetes reported as any list...</td>\n",
       "      <td>cases per 100,000</td>\n",
       "      <td>Age-adjusted Rate</td>\n",
       "      <td>0.0</td>\n",
       "      <td>...</td>\n",
       "      <td>84.734474</td>\n",
       "      <td>Race/Ethnicity</td>\n",
       "      <td>Black, non-Hispanic</td>\n",
       "      <td>(64.84507995700051, -147.72205903599973)</td>\n",
       "      <td>2</td>\n",
       "      <td>DIA</td>\n",
       "      <td>DIA1_1</td>\n",
       "      <td>AgeAdjRate</td>\n",
       "      <td>RACE</td>\n",
       "      <td>BLK</td>\n",
       "    </tr>\n",
       "    <tr>\n",
       "      <th>244339</th>\n",
       "      <td>2014</td>\n",
       "      <td>2014</td>\n",
       "      <td>AK</td>\n",
       "      <td>Alaska</td>\n",
       "      <td>NVSS</td>\n",
       "      <td>Diabetes</td>\n",
       "      <td>Mortality due to diabetes reported as any list...</td>\n",
       "      <td>cases per 100,000</td>\n",
       "      <td>Age-adjusted Rate</td>\n",
       "      <td>49.0</td>\n",
       "      <td>...</td>\n",
       "      <td>57.000000</td>\n",
       "      <td>Gender</td>\n",
       "      <td>Female</td>\n",
       "      <td>(64.84507995700051, -147.72205903599973)</td>\n",
       "      <td>2</td>\n",
       "      <td>DIA</td>\n",
       "      <td>DIA1_1</td>\n",
       "      <td>AgeAdjRate</td>\n",
       "      <td>GENDER</td>\n",
       "      <td>GENF</td>\n",
       "    </tr>\n",
       "    <tr>\n",
       "      <th>244340</th>\n",
       "      <td>2014</td>\n",
       "      <td>2014</td>\n",
       "      <td>AK</td>\n",
       "      <td>Alaska</td>\n",
       "      <td>NVSS</td>\n",
       "      <td>Diabetes</td>\n",
       "      <td>Mortality due to diabetes reported as any list...</td>\n",
       "      <td>cases per 100,000</td>\n",
       "      <td>Age-adjusted Rate</td>\n",
       "      <td>0.0</td>\n",
       "      <td>...</td>\n",
       "      <td>84.734474</td>\n",
       "      <td>Race/Ethnicity</td>\n",
       "      <td>Hispanic</td>\n",
       "      <td>(64.84507995700051, -147.72205903599973)</td>\n",
       "      <td>2</td>\n",
       "      <td>DIA</td>\n",
       "      <td>DIA1_1</td>\n",
       "      <td>AgeAdjRate</td>\n",
       "      <td>RACE</td>\n",
       "      <td>HIS</td>\n",
       "    </tr>\n",
       "  </tbody>\n",
       "</table>\n",
       "<p>5 rows × 24 columns</p>\n",
       "</div>"
      ],
      "text/plain": [
       "        YearStart  YearEnd LocationAbbr LocationDesc DataSource     Topic  \\\n",
       "244336       2014     2014           AK       Alaska       NVSS  Diabetes   \n",
       "244337       2014     2014           AK       Alaska       NVSS  Diabetes   \n",
       "244338       2014     2014           AK       Alaska       NVSS  Diabetes   \n",
       "244339       2014     2014           AK       Alaska       NVSS  Diabetes   \n",
       "244340       2014     2014           AK       Alaska       NVSS  Diabetes   \n",
       "\n",
       "                                                 Question      DataValueUnit  \\\n",
       "244336  Mortality due to diabetes reported as any list...  cases per 100,000   \n",
       "244337  Mortality due to diabetes reported as any list...  cases per 100,000   \n",
       "244338  Mortality due to diabetes reported as any list...  cases per 100,000   \n",
       "244339  Mortality due to diabetes reported as any list...  cases per 100,000   \n",
       "244340  Mortality due to diabetes reported as any list...  cases per 100,000   \n",
       "\n",
       "            DataValueType  DataValue        ...         HighConfidenceLimit  \\\n",
       "244336  Age-adjusted Rate       60.0        ...                   82.000000   \n",
       "244337  Age-adjusted Rate       85.0        ...                  126.000000   \n",
       "244338  Age-adjusted Rate        0.0        ...                   84.734474   \n",
       "244339  Age-adjusted Rate       49.0        ...                   57.000000   \n",
       "244340  Age-adjusted Rate        0.0        ...                   84.734474   \n",
       "\n",
       "       StratificationCategory1                   Stratification1  \\\n",
       "244336          Race/Ethnicity  American Indian or Alaska Native   \n",
       "244337          Race/Ethnicity         Asian or Pacific Islander   \n",
       "244338          Race/Ethnicity               Black, non-Hispanic   \n",
       "244339                  Gender                            Female   \n",
       "244340          Race/Ethnicity                          Hispanic   \n",
       "\n",
       "                                     GeoLocation  LocationID TopicID  \\\n",
       "244336  (64.84507995700051, -147.72205903599973)           2     DIA   \n",
       "244337  (64.84507995700051, -147.72205903599973)           2     DIA   \n",
       "244338  (64.84507995700051, -147.72205903599973)           2     DIA   \n",
       "244339  (64.84507995700051, -147.72205903599973)           2     DIA   \n",
       "244340  (64.84507995700051, -147.72205903599973)           2     DIA   \n",
       "\n",
       "       QuestionID DataValueTypeID  StratificationCategoryID1 StratificationID1  \n",
       "244336     DIA1_1      AgeAdjRate                       RACE              AIAN  \n",
       "244337     DIA1_1      AgeAdjRate                       RACE               API  \n",
       "244338     DIA1_1      AgeAdjRate                       RACE               BLK  \n",
       "244339     DIA1_1      AgeAdjRate                     GENDER              GENF  \n",
       "244340     DIA1_1      AgeAdjRate                       RACE               HIS  \n",
       "\n",
       "[5 rows x 24 columns]"
      ]
     },
     "execution_count": 155,
     "metadata": {},
     "output_type": "execute_result"
    }
   ],
   "source": [
    "df_diabetes_ID1.head()"
   ]
  },
  {
   "cell_type": "code",
   "execution_count": 241,
   "metadata": {},
   "outputs": [
    {
     "data": {
      "text/plain": [
       "RACE       3825\n",
       "GENDER     1530\n",
       "OVERALL     780\n",
       "Name: StratificationCategoryID1, dtype: int64"
      ]
     },
     "execution_count": 241,
     "metadata": {},
     "output_type": "execute_result"
    }
   ],
   "source": [
    "## study pattern by stratification category\n",
    "\n",
    "df_diabetes_ID1['StratificationCategoryID1'].value_counts()"
   ]
  },
  {
   "cell_type": "code",
   "execution_count": 242,
   "metadata": {},
   "outputs": [
    {
     "data": {
      "text/plain": [
       "OVR     780\n",
       "API     765\n",
       "BLK     765\n",
       "AIAN    765\n",
       "GENF    765\n",
       "GENM    765\n",
       "HIS     765\n",
       "WHT     765\n",
       "Name: StratificationID1, dtype: int64"
      ]
     },
     "execution_count": 242,
     "metadata": {},
     "output_type": "execute_result"
    }
   ],
   "source": [
    "df_diabetes_ID1['StratificationID1'].value_counts()"
   ]
  },
  {
   "cell_type": "code",
   "execution_count": 243,
   "metadata": {
    "collapsed": true
   },
   "outputs": [],
   "source": [
    "# Question - mortality due to diabetes as compared to any other reason for death"
   ]
  },
  {
   "cell_type": "code",
   "execution_count": 244,
   "metadata": {
    "collapsed": true
   },
   "outputs": [],
   "source": [
    "# lets check Race distribution"
   ]
  },
  {
   "cell_type": "code",
   "execution_count": 245,
   "metadata": {
    "collapsed": true
   },
   "outputs": [],
   "source": [
    "df_race = df_diabetes_ID1[df_diabetes_ID1['StratificationCategoryID1']=='RACE']"
   ]
  },
  {
   "cell_type": "code",
   "execution_count": 246,
   "metadata": {},
   "outputs": [
    {
     "data": {
      "text/html": [
       "<div>\n",
       "<style>\n",
       "    .dataframe thead tr:only-child th {\n",
       "        text-align: right;\n",
       "    }\n",
       "\n",
       "    .dataframe thead th {\n",
       "        text-align: left;\n",
       "    }\n",
       "\n",
       "    .dataframe tbody tr th {\n",
       "        vertical-align: top;\n",
       "    }\n",
       "</style>\n",
       "<table border=\"1\" class=\"dataframe\">\n",
       "  <thead>\n",
       "    <tr style=\"text-align: right;\">\n",
       "      <th></th>\n",
       "      <th>YearStart</th>\n",
       "      <th>YearEnd</th>\n",
       "      <th>LocationAbbr</th>\n",
       "      <th>LocationDesc</th>\n",
       "      <th>DataSource</th>\n",
       "      <th>Topic</th>\n",
       "      <th>Question</th>\n",
       "      <th>DataValueUnit</th>\n",
       "      <th>DataValueType</th>\n",
       "      <th>DataValue</th>\n",
       "      <th>...</th>\n",
       "      <th>HighConfidenceLimit</th>\n",
       "      <th>StratificationCategory1</th>\n",
       "      <th>Stratification1</th>\n",
       "      <th>GeoLocation</th>\n",
       "      <th>LocationID</th>\n",
       "      <th>TopicID</th>\n",
       "      <th>QuestionID</th>\n",
       "      <th>DataValueTypeID</th>\n",
       "      <th>StratificationCategoryID1</th>\n",
       "      <th>StratificationID1</th>\n",
       "    </tr>\n",
       "  </thead>\n",
       "  <tbody>\n",
       "    <tr>\n",
       "      <th>244336</th>\n",
       "      <td>2014</td>\n",
       "      <td>2014</td>\n",
       "      <td>AK</td>\n",
       "      <td>Alaska</td>\n",
       "      <td>NVSS</td>\n",
       "      <td>Diabetes</td>\n",
       "      <td>Mortality due to diabetes reported as any list...</td>\n",
       "      <td>cases per 100,000</td>\n",
       "      <td>Age-adjusted Rate</td>\n",
       "      <td>60.0</td>\n",
       "      <td>...</td>\n",
       "      <td>82.000000</td>\n",
       "      <td>Race/Ethnicity</td>\n",
       "      <td>American Indian or Alaska Native</td>\n",
       "      <td>(64.84507995700051, -147.72205903599973)</td>\n",
       "      <td>2</td>\n",
       "      <td>DIA</td>\n",
       "      <td>DIA1_1</td>\n",
       "      <td>AgeAdjRate</td>\n",
       "      <td>RACE</td>\n",
       "      <td>AIAN</td>\n",
       "    </tr>\n",
       "    <tr>\n",
       "      <th>244337</th>\n",
       "      <td>2014</td>\n",
       "      <td>2014</td>\n",
       "      <td>AK</td>\n",
       "      <td>Alaska</td>\n",
       "      <td>NVSS</td>\n",
       "      <td>Diabetes</td>\n",
       "      <td>Mortality due to diabetes reported as any list...</td>\n",
       "      <td>cases per 100,000</td>\n",
       "      <td>Age-adjusted Rate</td>\n",
       "      <td>85.0</td>\n",
       "      <td>...</td>\n",
       "      <td>126.000000</td>\n",
       "      <td>Race/Ethnicity</td>\n",
       "      <td>Asian or Pacific Islander</td>\n",
       "      <td>(64.84507995700051, -147.72205903599973)</td>\n",
       "      <td>2</td>\n",
       "      <td>DIA</td>\n",
       "      <td>DIA1_1</td>\n",
       "      <td>AgeAdjRate</td>\n",
       "      <td>RACE</td>\n",
       "      <td>API</td>\n",
       "    </tr>\n",
       "    <tr>\n",
       "      <th>244338</th>\n",
       "      <td>2014</td>\n",
       "      <td>2014</td>\n",
       "      <td>AK</td>\n",
       "      <td>Alaska</td>\n",
       "      <td>NVSS</td>\n",
       "      <td>Diabetes</td>\n",
       "      <td>Mortality due to diabetes reported as any list...</td>\n",
       "      <td>cases per 100,000</td>\n",
       "      <td>Age-adjusted Rate</td>\n",
       "      <td>0.0</td>\n",
       "      <td>...</td>\n",
       "      <td>84.511104</td>\n",
       "      <td>Race/Ethnicity</td>\n",
       "      <td>Black, non-Hispanic</td>\n",
       "      <td>(64.84507995700051, -147.72205903599973)</td>\n",
       "      <td>2</td>\n",
       "      <td>DIA</td>\n",
       "      <td>DIA1_1</td>\n",
       "      <td>AgeAdjRate</td>\n",
       "      <td>RACE</td>\n",
       "      <td>BLK</td>\n",
       "    </tr>\n",
       "    <tr>\n",
       "      <th>244340</th>\n",
       "      <td>2014</td>\n",
       "      <td>2014</td>\n",
       "      <td>AK</td>\n",
       "      <td>Alaska</td>\n",
       "      <td>NVSS</td>\n",
       "      <td>Diabetes</td>\n",
       "      <td>Mortality due to diabetes reported as any list...</td>\n",
       "      <td>cases per 100,000</td>\n",
       "      <td>Age-adjusted Rate</td>\n",
       "      <td>0.0</td>\n",
       "      <td>...</td>\n",
       "      <td>84.511104</td>\n",
       "      <td>Race/Ethnicity</td>\n",
       "      <td>Hispanic</td>\n",
       "      <td>(64.84507995700051, -147.72205903599973)</td>\n",
       "      <td>2</td>\n",
       "      <td>DIA</td>\n",
       "      <td>DIA1_1</td>\n",
       "      <td>AgeAdjRate</td>\n",
       "      <td>RACE</td>\n",
       "      <td>HIS</td>\n",
       "    </tr>\n",
       "    <tr>\n",
       "      <th>244344</th>\n",
       "      <td>2014</td>\n",
       "      <td>2014</td>\n",
       "      <td>AK</td>\n",
       "      <td>Alaska</td>\n",
       "      <td>NVSS</td>\n",
       "      <td>Diabetes</td>\n",
       "      <td>Mortality due to diabetes reported as any list...</td>\n",
       "      <td>cases per 100,000</td>\n",
       "      <td>Age-adjusted Rate</td>\n",
       "      <td>54.0</td>\n",
       "      <td>...</td>\n",
       "      <td>62.000000</td>\n",
       "      <td>Race/Ethnicity</td>\n",
       "      <td>White, non-Hispanic</td>\n",
       "      <td>(64.84507995700051, -147.72205903599973)</td>\n",
       "      <td>2</td>\n",
       "      <td>DIA</td>\n",
       "      <td>DIA1_1</td>\n",
       "      <td>AgeAdjRate</td>\n",
       "      <td>RACE</td>\n",
       "      <td>WHT</td>\n",
       "    </tr>\n",
       "  </tbody>\n",
       "</table>\n",
       "<p>5 rows × 24 columns</p>\n",
       "</div>"
      ],
      "text/plain": [
       "        YearStart  YearEnd LocationAbbr LocationDesc DataSource     Topic  \\\n",
       "244336       2014     2014           AK       Alaska       NVSS  Diabetes   \n",
       "244337       2014     2014           AK       Alaska       NVSS  Diabetes   \n",
       "244338       2014     2014           AK       Alaska       NVSS  Diabetes   \n",
       "244340       2014     2014           AK       Alaska       NVSS  Diabetes   \n",
       "244344       2014     2014           AK       Alaska       NVSS  Diabetes   \n",
       "\n",
       "                                                 Question      DataValueUnit  \\\n",
       "244336  Mortality due to diabetes reported as any list...  cases per 100,000   \n",
       "244337  Mortality due to diabetes reported as any list...  cases per 100,000   \n",
       "244338  Mortality due to diabetes reported as any list...  cases per 100,000   \n",
       "244340  Mortality due to diabetes reported as any list...  cases per 100,000   \n",
       "244344  Mortality due to diabetes reported as any list...  cases per 100,000   \n",
       "\n",
       "            DataValueType  DataValue        ...         HighConfidenceLimit  \\\n",
       "244336  Age-adjusted Rate       60.0        ...                   82.000000   \n",
       "244337  Age-adjusted Rate       85.0        ...                  126.000000   \n",
       "244338  Age-adjusted Rate        0.0        ...                   84.511104   \n",
       "244340  Age-adjusted Rate        0.0        ...                   84.511104   \n",
       "244344  Age-adjusted Rate       54.0        ...                   62.000000   \n",
       "\n",
       "       StratificationCategory1                   Stratification1  \\\n",
       "244336          Race/Ethnicity  American Indian or Alaska Native   \n",
       "244337          Race/Ethnicity         Asian or Pacific Islander   \n",
       "244338          Race/Ethnicity               Black, non-Hispanic   \n",
       "244340          Race/Ethnicity                          Hispanic   \n",
       "244344          Race/Ethnicity               White, non-Hispanic   \n",
       "\n",
       "                                     GeoLocation  LocationID TopicID  \\\n",
       "244336  (64.84507995700051, -147.72205903599973)           2     DIA   \n",
       "244337  (64.84507995700051, -147.72205903599973)           2     DIA   \n",
       "244338  (64.84507995700051, -147.72205903599973)           2     DIA   \n",
       "244340  (64.84507995700051, -147.72205903599973)           2     DIA   \n",
       "244344  (64.84507995700051, -147.72205903599973)           2     DIA   \n",
       "\n",
       "       QuestionID DataValueTypeID  StratificationCategoryID1 StratificationID1  \n",
       "244336     DIA1_1      AgeAdjRate                       RACE              AIAN  \n",
       "244337     DIA1_1      AgeAdjRate                       RACE               API  \n",
       "244338     DIA1_1      AgeAdjRate                       RACE               BLK  \n",
       "244340     DIA1_1      AgeAdjRate                       RACE               HIS  \n",
       "244344     DIA1_1      AgeAdjRate                       RACE               WHT  \n",
       "\n",
       "[5 rows x 24 columns]"
      ]
     },
     "execution_count": 246,
     "metadata": {},
     "output_type": "execute_result"
    }
   ],
   "source": [
    "df_race.head()"
   ]
  },
  {
   "cell_type": "code",
   "execution_count": 247,
   "metadata": {},
   "outputs": [
    {
     "data": {
      "text/plain": [
       "Text(0.5,1,'Mortality Count vs Race per Year')"
      ]
     },
     "execution_count": 247,
     "metadata": {},
     "output_type": "execute_result"
    },
    {
     "data": {
      "image/png": "[encoded data removed]",
      "text/plain": [
       "<matplotlib.figure.Figure at 0x11b559fd0>"
      ]
     },
     "metadata": {},
     "output_type": "display_data"
    }
   ],
   "source": [
    "sns.set(rc={'figure.figsize':(11.7,8.27)})\n",
    "\n",
    "sns.countplot(x='Stratification1', data = df_race, hue = 'YearStart')\n",
    "plt.title('Mortality Count vs Race per Year')\n"
   ]
  },
  {
   "cell_type": "code",
   "execution_count": 248,
   "metadata": {},
   "outputs": [
    {
     "data": {
      "text/plain": [
       "2013    765\n",
       "2011    765\n",
       "2014    765\n",
       "2012    765\n",
       "2010    765\n",
       "Name: YearStart, dtype: int64"
      ]
     },
     "execution_count": 248,
     "metadata": {},
     "output_type": "execute_result"
    }
   ],
   "source": [
    "df_race['YearStart'].value_counts()"
   ]
  },
  {
   "cell_type": "code",
   "execution_count": 163,
   "metadata": {
    "collapsed": true
   },
   "outputs": [],
   "source": [
    "## rate is increasing among American Indian or Alaska Native while it has remain whites over the years. \n",
    "## Also White, non-hispanic have the highest rates for mortality rates due to diabetes as compared to other races."
   ]
  },
  {
   "cell_type": "code",
   "execution_count": 249,
   "metadata": {},
   "outputs": [
    {
     "data": {
      "text/html": [
       "<div>\n",
       "<style>\n",
       "    .dataframe thead tr:only-child th {\n",
       "        text-align: right;\n",
       "    }\n",
       "\n",
       "    .dataframe thead th {\n",
       "        text-align: left;\n",
       "    }\n",
       "\n",
       "    .dataframe tbody tr th {\n",
       "        vertical-align: top;\n",
       "    }\n",
       "</style>\n",
       "<table border=\"1\" class=\"dataframe\">\n",
       "  <thead>\n",
       "    <tr style=\"text-align: right;\">\n",
       "      <th></th>\n",
       "      <th>YearStart</th>\n",
       "      <th>YearEnd</th>\n",
       "      <th>LocationAbbr</th>\n",
       "      <th>LocationDesc</th>\n",
       "      <th>DataSource</th>\n",
       "      <th>Topic</th>\n",
       "      <th>Question</th>\n",
       "      <th>DataValueUnit</th>\n",
       "      <th>DataValueType</th>\n",
       "      <th>DataValue</th>\n",
       "      <th>...</th>\n",
       "      <th>HighConfidenceLimit</th>\n",
       "      <th>StratificationCategory1</th>\n",
       "      <th>Stratification1</th>\n",
       "      <th>GeoLocation</th>\n",
       "      <th>LocationID</th>\n",
       "      <th>TopicID</th>\n",
       "      <th>QuestionID</th>\n",
       "      <th>DataValueTypeID</th>\n",
       "      <th>StratificationCategoryID1</th>\n",
       "      <th>StratificationID1</th>\n",
       "    </tr>\n",
       "  </thead>\n",
       "  <tbody>\n",
       "    <tr>\n",
       "      <th>244339</th>\n",
       "      <td>2014</td>\n",
       "      <td>2014</td>\n",
       "      <td>AK</td>\n",
       "      <td>Alaska</td>\n",
       "      <td>NVSS</td>\n",
       "      <td>Diabetes</td>\n",
       "      <td>Mortality due to diabetes reported as any list...</td>\n",
       "      <td>cases per 100,000</td>\n",
       "      <td>Age-adjusted Rate</td>\n",
       "      <td>49.0</td>\n",
       "      <td>...</td>\n",
       "      <td>57.0</td>\n",
       "      <td>Gender</td>\n",
       "      <td>Female</td>\n",
       "      <td>(64.84507995700051, -147.72205903599973)</td>\n",
       "      <td>2</td>\n",
       "      <td>DIA</td>\n",
       "      <td>DIA1_1</td>\n",
       "      <td>AgeAdjRate</td>\n",
       "      <td>GENDER</td>\n",
       "      <td>GENF</td>\n",
       "    </tr>\n",
       "    <tr>\n",
       "      <th>244342</th>\n",
       "      <td>2014</td>\n",
       "      <td>2014</td>\n",
       "      <td>AK</td>\n",
       "      <td>Alaska</td>\n",
       "      <td>NVSS</td>\n",
       "      <td>Diabetes</td>\n",
       "      <td>Mortality due to diabetes reported as any list...</td>\n",
       "      <td>cases per 100,000</td>\n",
       "      <td>Age-adjusted Rate</td>\n",
       "      <td>70.0</td>\n",
       "      <td>...</td>\n",
       "      <td>82.0</td>\n",
       "      <td>Gender</td>\n",
       "      <td>Male</td>\n",
       "      <td>(64.84507995700051, -147.72205903599973)</td>\n",
       "      <td>2</td>\n",
       "      <td>DIA</td>\n",
       "      <td>DIA1_1</td>\n",
       "      <td>AgeAdjRate</td>\n",
       "      <td>GENDER</td>\n",
       "      <td>GENM</td>\n",
       "    </tr>\n",
       "    <tr>\n",
       "      <th>244348</th>\n",
       "      <td>2014</td>\n",
       "      <td>2014</td>\n",
       "      <td>AL</td>\n",
       "      <td>Alabama</td>\n",
       "      <td>NVSS</td>\n",
       "      <td>Diabetes</td>\n",
       "      <td>Mortality due to diabetes reported as any list...</td>\n",
       "      <td>cases per 100,000</td>\n",
       "      <td>Age-adjusted Rate</td>\n",
       "      <td>50.0</td>\n",
       "      <td>...</td>\n",
       "      <td>52.0</td>\n",
       "      <td>Gender</td>\n",
       "      <td>Female</td>\n",
       "      <td>(32.84057112200048, -86.63186076199969)</td>\n",
       "      <td>1</td>\n",
       "      <td>DIA</td>\n",
       "      <td>DIA1_1</td>\n",
       "      <td>AgeAdjRate</td>\n",
       "      <td>GENDER</td>\n",
       "      <td>GENF</td>\n",
       "    </tr>\n",
       "    <tr>\n",
       "      <th>244350</th>\n",
       "      <td>2014</td>\n",
       "      <td>2014</td>\n",
       "      <td>AL</td>\n",
       "      <td>Alabama</td>\n",
       "      <td>NVSS</td>\n",
       "      <td>Diabetes</td>\n",
       "      <td>Mortality due to diabetes reported as any list...</td>\n",
       "      <td>cases per 100,000</td>\n",
       "      <td>Age-adjusted Rate</td>\n",
       "      <td>72.0</td>\n",
       "      <td>...</td>\n",
       "      <td>76.0</td>\n",
       "      <td>Gender</td>\n",
       "      <td>Male</td>\n",
       "      <td>(32.84057112200048, -86.63186076199969)</td>\n",
       "      <td>1</td>\n",
       "      <td>DIA</td>\n",
       "      <td>DIA1_1</td>\n",
       "      <td>AgeAdjRate</td>\n",
       "      <td>GENDER</td>\n",
       "      <td>GENM</td>\n",
       "    </tr>\n",
       "    <tr>\n",
       "      <th>244356</th>\n",
       "      <td>2014</td>\n",
       "      <td>2014</td>\n",
       "      <td>AR</td>\n",
       "      <td>Arkansas</td>\n",
       "      <td>NVSS</td>\n",
       "      <td>Diabetes</td>\n",
       "      <td>Mortality due to diabetes reported as any list...</td>\n",
       "      <td>cases per 100,000</td>\n",
       "      <td>Age-adjusted Rate</td>\n",
       "      <td>58.0</td>\n",
       "      <td>...</td>\n",
       "      <td>61.0</td>\n",
       "      <td>Gender</td>\n",
       "      <td>Female</td>\n",
       "      <td>(34.74865012400045, -92.27449074299966)</td>\n",
       "      <td>5</td>\n",
       "      <td>DIA</td>\n",
       "      <td>DIA1_1</td>\n",
       "      <td>AgeAdjRate</td>\n",
       "      <td>GENDER</td>\n",
       "      <td>GENF</td>\n",
       "    </tr>\n",
       "  </tbody>\n",
       "</table>\n",
       "<p>5 rows × 24 columns</p>\n",
       "</div>"
      ],
      "text/plain": [
       "        YearStart  YearEnd LocationAbbr LocationDesc DataSource     Topic  \\\n",
       "244339       2014     2014           AK       Alaska       NVSS  Diabetes   \n",
       "244342       2014     2014           AK       Alaska       NVSS  Diabetes   \n",
       "244348       2014     2014           AL      Alabama       NVSS  Diabetes   \n",
       "244350       2014     2014           AL      Alabama       NVSS  Diabetes   \n",
       "244356       2014     2014           AR     Arkansas       NVSS  Diabetes   \n",
       "\n",
       "                                                 Question      DataValueUnit  \\\n",
       "244339  Mortality due to diabetes reported as any list...  cases per 100,000   \n",
       "244342  Mortality due to diabetes reported as any list...  cases per 100,000   \n",
       "244348  Mortality due to diabetes reported as any list...  cases per 100,000   \n",
       "244350  Mortality due to diabetes reported as any list...  cases per 100,000   \n",
       "244356  Mortality due to diabetes reported as any list...  cases per 100,000   \n",
       "\n",
       "            DataValueType  DataValue        ...         HighConfidenceLimit  \\\n",
       "244339  Age-adjusted Rate       49.0        ...                        57.0   \n",
       "244342  Age-adjusted Rate       70.0        ...                        82.0   \n",
       "244348  Age-adjusted Rate       50.0        ...                        52.0   \n",
       "244350  Age-adjusted Rate       72.0        ...                        76.0   \n",
       "244356  Age-adjusted Rate       58.0        ...                        61.0   \n",
       "\n",
       "       StratificationCategory1 Stratification1  \\\n",
       "244339                  Gender          Female   \n",
       "244342                  Gender            Male   \n",
       "244348                  Gender          Female   \n",
       "244350                  Gender            Male   \n",
       "244356                  Gender          Female   \n",
       "\n",
       "                                     GeoLocation  LocationID TopicID  \\\n",
       "244339  (64.84507995700051, -147.72205903599973)           2     DIA   \n",
       "244342  (64.84507995700051, -147.72205903599973)           2     DIA   \n",
       "244348   (32.84057112200048, -86.63186076199969)           1     DIA   \n",
       "244350   (32.84057112200048, -86.63186076199969)           1     DIA   \n",
       "244356   (34.74865012400045, -92.27449074299966)           5     DIA   \n",
       "\n",
       "       QuestionID DataValueTypeID  StratificationCategoryID1 StratificationID1  \n",
       "244339     DIA1_1      AgeAdjRate                     GENDER              GENF  \n",
       "244342     DIA1_1      AgeAdjRate                     GENDER              GENM  \n",
       "244348     DIA1_1      AgeAdjRate                     GENDER              GENF  \n",
       "244350     DIA1_1      AgeAdjRate                     GENDER              GENM  \n",
       "244356     DIA1_1      AgeAdjRate                     GENDER              GENF  \n",
       "\n",
       "[5 rows x 24 columns]"
      ]
     },
     "execution_count": 249,
     "metadata": {},
     "output_type": "execute_result"
    }
   ],
   "source": [
    "## lets do the same for gender\n",
    "df_gender = df_diabetes_ID1[df_diabetes_ID1['StratificationCategoryID1']=='GENDER']\n",
    "df_gender.head()"
   ]
  },
  {
   "cell_type": "code",
   "execution_count": 250,
   "metadata": {},
   "outputs": [
    {
     "data": {
      "text/plain": [
       "Text(0.5,1,'Mortality Count vs Gender per Year')"
      ]
     },
     "execution_count": 250,
     "metadata": {},
     "output_type": "execute_result"
    },
    {
     "data": {
      "image/png": "[encoded data removed]",
      "text/plain": [
       "<matplotlib.figure.Figure at 0x1286bef60>"
      ]
     },
     "metadata": {},
     "output_type": "display_data"
    }
   ],
   "source": [
    "sns.set(rc={'figure.figsize':(11.7,8.27)})\n",
    "\n",
    "sns.countplot(x='Stratification1', data = df_gender, hue = 'YearEnd')\n",
    "plt.title('Mortality Count vs Gender per Year')\n"
   ]
  },
  {
   "cell_type": "code",
   "execution_count": 166,
   "metadata": {},
   "outputs": [],
   "source": [
    "## The deaths due to diabetes have same pattern among men and women over the years."
   ]
  },
  {
   "cell_type": "code",
   "execution_count": null,
   "metadata": {},
   "outputs": [],
   "source": []
  },
  {
   "cell_type": "code",
   "execution_count": null,
   "metadata": {},
   "outputs": [],
   "source": []
  },
  {
   "cell_type": "code",
   "execution_count": null,
   "metadata": {},
   "outputs": [],
   "source": []
  },
  {
   "cell_type": "code",
   "execution_count": null,
   "metadata": {},
   "outputs": [],
   "source": []
  },
  {
   "cell_type": "code",
   "execution_count": 167,
   "metadata": {},
   "outputs": [
    {
     "data": {
      "text/html": [
       "<div>\n",
       "<style>\n",
       "    .dataframe thead tr:only-child th {\n",
       "        text-align: right;\n",
       "    }\n",
       "\n",
       "    .dataframe thead th {\n",
       "        text-align: left;\n",
       "    }\n",
       "\n",
       "    .dataframe tbody tr th {\n",
       "        vertical-align: top;\n",
       "    }\n",
       "</style>\n",
       "<table border=\"1\" class=\"dataframe\">\n",
       "  <thead>\n",
       "    <tr style=\"text-align: right;\">\n",
       "      <th></th>\n",
       "      <th>Stratification1</th>\n",
       "      <th>YearStart</th>\n",
       "      <th>DataValue</th>\n",
       "    </tr>\n",
       "  </thead>\n",
       "  <tbody>\n",
       "    <tr>\n",
       "      <th>244336</th>\n",
       "      <td>American Indian or Alaska Native</td>\n",
       "      <td>2014</td>\n",
       "      <td>60.0</td>\n",
       "    </tr>\n",
       "    <tr>\n",
       "      <th>244337</th>\n",
       "      <td>Asian or Pacific Islander</td>\n",
       "      <td>2014</td>\n",
       "      <td>85.0</td>\n",
       "    </tr>\n",
       "    <tr>\n",
       "      <th>244338</th>\n",
       "      <td>Black, non-Hispanic</td>\n",
       "      <td>2014</td>\n",
       "      <td>0.0</td>\n",
       "    </tr>\n",
       "    <tr>\n",
       "      <th>244340</th>\n",
       "      <td>Hispanic</td>\n",
       "      <td>2014</td>\n",
       "      <td>0.0</td>\n",
       "    </tr>\n",
       "    <tr>\n",
       "      <th>244344</th>\n",
       "      <td>White, non-Hispanic</td>\n",
       "      <td>2014</td>\n",
       "      <td>54.0</td>\n",
       "    </tr>\n",
       "  </tbody>\n",
       "</table>\n",
       "</div>"
      ],
      "text/plain": [
       "                         Stratification1  YearStart  DataValue\n",
       "244336  American Indian or Alaska Native       2014       60.0\n",
       "244337         Asian or Pacific Islander       2014       85.0\n",
       "244338               Black, non-Hispanic       2014        0.0\n",
       "244340                          Hispanic       2014        0.0\n",
       "244344               White, non-Hispanic       2014       54.0"
      ]
     },
     "execution_count": 167,
     "metadata": {},
     "output_type": "execute_result"
    }
   ],
   "source": [
    "df_race1 = df_race[['Stratification1', 'YearStart', 'DataValue']]\n",
    "df_race1.head()"
   ]
  },
  {
   "cell_type": "code",
   "execution_count": null,
   "metadata": {},
   "outputs": [],
   "source": [
    "df_race1[df_race1['Stratification1'].isnull()]"
   ]
  },
  {
   "cell_type": "code",
   "execution_count": null,
   "metadata": {},
   "outputs": [],
   "source": []
  },
  {
   "cell_type": "code",
   "execution_count": null,
   "metadata": {},
   "outputs": [],
   "source": []
  },
  {
   "cell_type": "code",
   "execution_count": null,
   "metadata": {
    "collapsed": true
   },
   "outputs": [],
   "source": []
  }
 ],
 "metadata": {
  "kernelspec": {
   "display_name": "Python 3",
   "language": "python",
   "name": "python3"
  },
  "language_info": {
   "codemirror_mode": {
    "name": "ipython",
    "version": 3
   },
   "file_extension": ".py",
   "mimetype": "text/x-python",
   "name": "python",
   "nbconvert_exporter": "python",
   "pygments_lexer": "ipython3",
   "version": "3.6.3"
  }
 },
 "nbformat": 4,
 "nbformat_minor": 2
}
